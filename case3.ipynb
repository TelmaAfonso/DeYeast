{
 "cells": [
  {
   "cell_type": "markdown",
   "metadata": {},
   "source": [
    "# Case 3 Report (Fendt et al, 2010)\n",
    "This report contains the results with case 3 simulations.\n",
    "\n",
    "Paper: [*Transcriptional regulation of respiration in yeast metabolizing differently repressive carbon substrates*](http://www.biomedcentral.com/1752-0509/4/12)\n",
    "\n",
    "**Background:** Depending on the carbon source, Saccharomyces cerevisiae displays various degrees of respiration.\n",
    "These range from complete respiration as in the case of ethanol, to almost complete fermentation, and thus very\n",
    "low degrees of respiration on glucose. While many key regulators are known for these extreme cases, we focus\n",
    "here on regulators that are relevant at intermediate levels of respiration.\n",
    "\n",
    "**Results:** We address this question by linking the functional degree of respiration to transcriptional regulation via\n",
    "enzyme abundances. Specifically, we investigated aerobic batch cultures with the differently repressive carbon\n",
    "sources glucose, mannose, galactose and pyruvate. Based on 13 C flux analysis, we found that the respiratory\n",
    "contribution to cellular energy production was largely absent on glucose and mannose, intermediate on galactose\n",
    "and highest on pyruvate. In vivo abundances of 40 respiratory enzymes were quantified by GFP-fusions under each\n",
    "condition. During growth on the partly and fully respired substrates galactose and pyruvate, several TCA cycle and\n",
    "respiratory chain enzymes were significantly up-regulated. From these enzyme levels and the known regulatory\n",
    "network structure, we determined the probability for a given transcription factor to cause the coordinated\n",
    "expression changes. The most probable transcription factors to regulate the different degrees of respiration were\n",
    "Gcr1p, Cat8p, the Rtg-proteins and the Hap-complex. For the latter three ones we confirmed their importance for\n",
    "respiration by quantifying the degree of respiration and biomass yields in the corresponding deletion strains.\n",
    "\n",
    "**Conclusions:** Cat8p is required for wild-type like respiration, independent of its known activation of gluconeogenic\n",
    "genes. The Rtg-proteins and the Hap-complex are essential for wild-type like respiration under partially respiratory\n",
    "conditions. Under fully respiratory conditions, the Hap-complex, but not the Rtg-proteins are essential for\n",
    "respiration.\n",
    "\n",
    "**NOTES**\n",
    "- No ethanol fluxes available to estimate O2 lb\n",
    "\n",
    "<p style=\"float: center; font-size: 9pt; text-align: center; width: 100%;\"><img src = \"Results/Case 3/Fendt_2010_fig1\", width = 60%></p>\n",
    "\n"
   ]
  },
  {
   "cell_type": "code",
   "execution_count": null,
   "metadata": {},
   "outputs": [],
   "source": [
    "import warnings\n",
    "from case_3 import *\n",
    "\n",
    "pd.set_option('display.max_colwidth', -1)\n",
    "warnings.filterwarnings('ignore')\n",
    "\n",
    "#Initialization\n",
    "case3 = Case3()\n",
    "case3.model = case3.loadObjectFromFile('model_yeast_76.sav')\n",
    "case3.model.solver = 'optlang-cplex'\n",
    "case3.setMedium('MINIMAL')\n",
    "case3.dictsForCase3()\n",
    "\n"
   ]
  },
  {
   "cell_type": "markdown",
   "metadata": {},
   "source": [
    "## General datasets\n"
   ]
  },
  {
   "cell_type": "code",
   "execution_count": null,
   "metadata": {},
   "outputs": [],
   "source": [
    "#General datasets\n",
    "exp_dataset, reactions = case3.loadExperimentalRes('Results/Case 3/case3_experimental_fluxes.csv')\n",
    "pd.DataFrame(reactions)\n"
   ]
  },
  {
   "cell_type": "markdown",
   "metadata": {},
   "source": [
    "# Glucose carbon source\n"
   ]
  },
  {
   "cell_type": "markdown",
   "metadata": {},
   "source": [
    "## Flux Balance Analysis (FBA) Simulation\n"
   ]
  },
  {
   "cell_type": "code",
   "execution_count": null,
   "metadata": {},
   "outputs": [],
   "source": [
    "g_exp_df = case3.getColumnWithoutNAs(exp_dataset, 0)\n",
    "\n",
    "g_fba_res, g_fba_exp_sim, g_fba_exp_sim_errors = case3.simulationPipeline(g_exp_df, cs = 'glucose', type = 'fba', res_exists = True, fname = 'Results/Case 3/res_fba_glucose_case3.sav')\n",
    "pd.concat([reactions, g_fba_exp_sim_errors], axis = 1, join = 'inner')\n"
   ]
  },
  {
   "cell_type": "markdown",
   "metadata": {},
   "source": [
    "<p style=\"float: center; font-size: 9pt; text-align: center; width: 100%;\"><img src = \"Results/Case 3/g_fba_exp_sim_plot.png\", width = 80%></p>"
   ]
  },
  {
   "cell_type": "markdown",
   "metadata": {},
   "source": [
    "## Parsimonious Flux Balance Analysis (pFBA) Simulation\n"
   ]
  },
  {
   "cell_type": "code",
   "execution_count": null,
   "metadata": {},
   "outputs": [],
   "source": [
    "g_pfba_res, g_pfba_exp_sim, g_pfba_exp_sim_errors = case3.simulationPipeline(g_exp_df, cs = 'glucose', type = 'pfba', res_exists = True, fname = 'Results/Case 3/res_pfba_glucose_case3.sav')\n",
    "pd.concat([reactions, g_pfba_exp_sim_errors], axis = 1, join = 'inner')\n"
   ]
  },
  {
   "cell_type": "markdown",
   "metadata": {},
   "source": [
    "<p style=\"float: center; font-size: 9pt; text-align: center; width: 100%;\"><img src = \"Results/Case 3/g_pfba_exp_sim_plot.png\", width = 80%></p>"
   ]
  },
  {
   "cell_type": "markdown",
   "metadata": {},
   "source": [
    "## Flux Variability Analysis (FVA) Simulation\n"
   ]
  },
  {
   "cell_type": "code",
   "execution_count": null,
   "metadata": {},
   "outputs": [],
   "source": [
    "g_fva_res, g_fva_exp_sim, _ = case3.simulationPipeline(g_exp_df, cs = 'glucose', type = 'fva', res_exists = True, fname = 'Results/Case 3/res_fva_glucose_case3.sav')\n",
    "pd.concat([reactions, g_fva_exp_sim], axis = 1, join = 'inner')\n"
   ]
  },
  {
   "cell_type": "markdown",
   "metadata": {},
   "source": [
    "# Mannose carbon source\n"
   ]
  },
  {
   "cell_type": "markdown",
   "metadata": {},
   "source": [
    "## Flux Balance Analysis (FBA) Simulation\n"
   ]
  },
  {
   "cell_type": "code",
   "execution_count": null,
   "metadata": {},
   "outputs": [],
   "source": [
    "m_exp_df = case3.getColumnWithoutNAs(exp_dataset, 1)\n",
    "\n",
    "m_fba_res, m_fba_exp_sim, m_fba_exp_sim_errors = case3.simulationPipeline(m_exp_df, cs = 'mannose', type = 'fba', res_exists = True, fname = 'Results/Case 3/res_fba_mannose_case10.sav')\n",
    "pd.concat([reactions, m_fba_exp_sim_errors], axis = 1, join = 'inner')\n"
   ]
  },
  {
   "cell_type": "markdown",
   "metadata": {},
   "source": [
    "<p style=\"float: center; font-size: 9pt; text-align: center; width: 100%;\"><img src = \"Results/Case 3/m_fba_exp_sim_plot.png\", width = 80%></p>"
   ]
  },
  {
   "cell_type": "markdown",
   "metadata": {},
   "source": [
    "## Parsimonious Flux Balance Analysis (pFBA) Simulation\n"
   ]
  },
  {
   "cell_type": "code",
   "execution_count": null,
   "metadata": {},
   "outputs": [],
   "source": [
    "m_pfba_res, m_pfba_exp_sim, m_pfba_exp_sim_errors = case3.simulationPipeline(m_exp_df, cs = 'mannose', type = 'pfba', res_exists = True, fname = 'Results/Case 3/res_pfba_mannose_case10.sav')\n",
    "pd.concat([reactions, m_pfba_exp_sim_errors], axis = 1, join = 'inner')\n"
   ]
  },
  {
   "cell_type": "markdown",
   "metadata": {},
   "source": [
    "<p style=\"float: center; font-size: 9pt; text-align: center; width: 100%;\"><img src = \"Results/Case 3/m_pfba_exp_sim_plot.png\", width = 80%></p>"
   ]
  },
  {
   "cell_type": "markdown",
   "metadata": {},
   "source": [
    "## Flux Variability Analysis (FVA) Simulation\n"
   ]
  },
  {
   "cell_type": "code",
   "execution_count": null,
   "metadata": {},
   "outputs": [],
   "source": [
    "m_fva_res, m_fva_exp_sim, _ = case3.simulationPipeline(m_exp_df, cs = 'mannose', type = 'fva', res_exists = True, fname = 'Results/Case 3/res_fva_mannose_case10.sav')\n",
    "pd.concat([reactions, m_fva_exp_sim], axis = 1, join = 'inner')\n"
   ]
  },
  {
   "cell_type": "markdown",
   "metadata": {},
   "source": [
    "# Galactose carbon source\n"
   ]
  },
  {
   "cell_type": "markdown",
   "metadata": {},
   "source": [
    "## Flux Balance Analysis (FBA) Simulation\n"
   ]
  },
  {
   "cell_type": "code",
   "execution_count": null,
   "metadata": {},
   "outputs": [],
   "source": [
    "gal_exp_df = case3.getColumnWithoutNAs(exp_dataset, 2)\n",
    "\n",
    "gal_fba_res, gal_fba_exp_sim, gal_fba_exp_sim_errors = case3.simulationPipeline(gal_exp_df, cs = 'galactose', type = 'fba', res_exists = True, fname = 'Results/Case 3/res_fba_galactose_case3.sav')\n",
    "pd.concat([reactions, gal_fba_exp_sim_errors], axis = 1, join = 'inner')\n"
   ]
  },
  {
   "cell_type": "markdown",
   "metadata": {},
   "source": [
    "<p style=\"float: center; font-size: 9pt; text-align: center; width: 100%;\"><img src = \"Results/Case 3/gal_fba_exp_sim_plot.png\", width = 80%></p>"
   ]
  },
  {
   "cell_type": "markdown",
   "metadata": {},
   "source": [
    "## Parsimonious Flux Balance Analysis (pFBA) Simulation\n"
   ]
  },
  {
   "cell_type": "code",
   "execution_count": null,
   "metadata": {},
   "outputs": [],
   "source": [
    "gal_pfba_res, gal_pfba_exp_sim, gal_pfba_exp_sim_errors = case3.simulationPipeline(gal_exp_df, cs = 'galactose', type = 'pfba', res_exists = True, fname = 'Results/Case 3/res_pfba_galactose_case3.sav')\n",
    "pd.concat([reactions, gal_pfba_exp_sim_errors], axis = 1, join = 'inner')\n"
   ]
  },
  {
   "cell_type": "markdown",
   "metadata": {},
   "source": [
    "<p style=\"float: center; font-size: 9pt; text-align: center; width: 100%;\"><img src = \"Results/Case 3/gal_pfba_exp_sim_plot.png\", width = 80%></p>"
   ]
  },
  {
   "cell_type": "markdown",
   "metadata": {},
   "source": [
    "## Flux Variability Analysis (FVA) Simulation\n"
   ]
  },
  {
   "cell_type": "code",
   "execution_count": null,
   "metadata": {},
   "outputs": [],
   "source": [
    "gal_fva_res, gal_fva_exp_sim, _ = case3.simulationPipeline(gal_exp_df, cs = 'galactose', type = 'fva', res_exists = True, fname = 'Results/Case 3/res_fva_galactose_case3.sav')\n",
    "pd.concat([reactions, gal_fva_exp_sim], axis = 1, join = 'inner')\n"
   ]
  },
  {
   "cell_type": "markdown",
   "metadata": {},
   "source": [
    "# Pyruvate carbon source\n"
   ]
  },
  {
   "cell_type": "markdown",
   "metadata": {},
   "source": [
    "## Flux Balance Analysis (FBA) Simulation\n"
   ]
  },
  {
   "cell_type": "code",
   "execution_count": null,
   "metadata": {},
   "outputs": [],
   "source": [
    "p_exp_df = case3.getColumnWithoutNAs(exp_dataset, 3)\n",
    "\n",
    "p_fba_res, p_fba_exp_sim, p_fba_exp_sim_errors = case3.simulationPipeline(p_exp_df, cs = 'pyruvate', type = 'fba', res_exists = True, fname = 'Results/Case 3/res_fba_pyruvate_case3.sav')\n",
    "pd.concat([reactions, p_fba_exp_sim_errors], axis = 1, join = 'inner')\n"
   ]
  },
  {
   "cell_type": "markdown",
   "metadata": {},
   "source": [
    "<p style=\"float: center; font-size: 9pt; text-align: center; width: 100%;\"><img src = \"Results/Case 3/p_fba_exp_sim_plot.png\", width = 80%></p>"
   ]
  },
  {
   "cell_type": "markdown",
   "metadata": {},
   "source": [
    "## Parsimonious Flux Balance Analysis (pFBA) Simulation\n"
   ]
  },
  {
   "cell_type": "code",
   "execution_count": null,
   "metadata": {},
   "outputs": [],
   "source": [
    "p_pfba_res, p_pfba_exp_sim, p_pfba_exp_sim_errors = case3.simulationPipeline(p_exp_df, cs = 'pyruvate', type = 'pfba', res_exists = True, fname = 'Results/Case 3/res_pfba_pyruvate_case3.sav')\n",
    "pd.concat([reactions, p_pfba_exp_sim_errors], axis = 1, join = 'inner')\n"
   ]
  },
  {
   "cell_type": "markdown",
   "metadata": {},
   "source": [
    "<p style=\"float: center; font-size: 9pt; text-align: center; width: 100%;\"><img src = \"Results/Case 3/p_pfba_exp_sim_plot.png\", width = 80%></p>"
   ]
  },
  {
   "cell_type": "markdown",
   "metadata": {},
   "source": [
    "## Flux Variability Analysis (FVA) Simulation\n"
   ]
  },
  {
   "cell_type": "code",
   "execution_count": null,
   "metadata": {},
   "outputs": [],
   "source": [
    "p_fva_res, p_fva_exp_sim, _ = case3.simulationPipeline(p_exp_df, cs = 'pyruvate', type = 'fva', res_exists = True, fname = 'Results/Case 3/res_fva_pyruvate_case3.sav')\n",
    "pd.concat([reactions, p_fva_exp_sim], axis = 1, join = 'inner')\n"
   ]
  }
 ],
 "metadata": {},
 "nbformat": 4,
 "nbformat_minor": 2
}
