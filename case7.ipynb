{
 "cells": [
  {
   "cell_type": "markdown",
   "metadata": {},
   "source": [
    "# Case 7 Report\n",
    "This report contains the results with case 7 simulations.\n"
   ]
  },
  {
   "cell_type": "code",
   "execution_count": null,
   "metadata": {},
   "outputs": [],
   "source": [
    "import warnings\n",
    "from phenomenaly.io import load_yeast_76\n",
    "from case_7 import *\n",
    "warnings.filterwarnings('ignore')\n",
    "#Initialization\n",
    "case7 = Case7()\n",
    "case7.model = case7.loadObjectFromFile('model_yeast_76.sav')\n",
    "case7.model.solver = 'optlang-cplex'\n",
    "case7.setMedium('MINIMAL_CASE7')\n",
    "case7.dictsForCase7();"
   ]
  },
  {
   "cell_type": "markdown",
   "metadata": {},
   "source": [
    "## General datasets\n"
   ]
  },
  {
   "cell_type": "code",
   "execution_count": null,
   "metadata": {},
   "outputs": [],
   "source": [
    "exp_dataset, reactions, real_EtOH_fluxes, sim_EtOH_O2_fluxes_fixed, fluxes_O2 = case7.case7Pipeline(type = 'pfba', res_exists = True)\n",
    "pd.set_option('display.max_colwidth', -1)\n",
    "pd.DataFrame(reactions)"
   ]
  },
  {
   "cell_type": "markdown",
   "metadata": {},
   "source": [
    "## Flux Balance Analysis (FBA) Simulations\n"
   ]
  },
  {
   "cell_type": "code",
   "execution_count": null,
   "metadata": {},
   "outputs": [],
   "source": [
    "res_fba, res_fba_df, wt_fba_df, df_fba_exp_sim, df_fba_exp_sim_errors = case7.fbaPipeline(fluxes_O2 = fluxes_O2, exp_dataset = exp_dataset, res_exists = True)\n",
    "df_fba_exp_sim_errors"
   ]
  },
  {
   "cell_type": "markdown",
   "metadata": {},
   "source": [
    "Below are the simulated vs experimental values plotted for each reaction across the different gene knockout experiments.<p style=\"float: left; font-size: 9pt; text-align: center; width: 50%;\"><img src = \"Results/Case 7/FBA_figs/0_reacts.png\", width = 100%></p><p style=\"float: left; font-size: 9pt; text-align: center; width: 50%;\"><img src = \"Results/Case 7/FBA_figs/1_reacts.png\", width = 100%></p><p style=\"float: left; font-size: 9pt; text-align: center; width: 50%;\"><img src = \"Results/Case 7/FBA_figs/2_reacts.png\", width = 100%></p><p style=\"float: left; font-size: 9pt; text-align: center; width: 50%;\"><img src = \"Results/Case 7/FBA_figs/3_reacts.png\", width = 100%></p><p style=\"float: left; font-size: 9pt; text-align: center; width: 50%;\"><img src = \"Results/Case 7/FBA_figs/4_reacts.png\", width = 100%></p><p style=\"float: left; font-size: 9pt; text-align: center; width: 50%;\"><img src = \"Results/Case 7/FBA_figs/5_reacts.png\", width = 100%></p><p style=\"float: left; font-size: 9pt; text-align: center; width: 50%;\"><img src = \"Results/Case 7/FBA_figs/6_reacts.png\", width = 100%></p><p style=\"float: left; font-size: 9pt; text-align: center; width: 50%;\"><img src = \"Results/Case 7/FBA_figs/7_reacts.png\", width = 100%></p><p style=\"float: left; font-size: 9pt; text-align: center; width: 50%;\"><img src = \"Results/Case 7/FBA_figs/8_reacts.png\", width = 100%></p><p style=\"float: left; font-size: 9pt; text-align: center; width: 50%;\"><img src = \"Results/Case 7/FBA_figs/9_reacts.png\", width = 100%></p><p style=\"float: left; font-size: 9pt; text-align: center; width: 50%;\"><img src = \"Results/Case 7/FBA_figs/10_reacts.png\", width = 100%></p>"
   ]
  },
  {
   "cell_type": "markdown",
   "metadata": {},
   "source": [
    "## Parsimonious Flux Balance Analysis (pFBA) Simulations\n"
   ]
  },
  {
   "cell_type": "code",
   "execution_count": null,
   "metadata": {},
   "outputs": [],
   "source": [
    "res_pfba, res_pfba_df, wt_pfba_df, df_pfba_exp_sim, df_pfba_exp_sim_errors = case7.pfbaPipeline(fluxes_O2 = fluxes_O2, exp_dataset = exp_dataset, saveGenesPlot = False, plotReacts = False, plotGenes = False, res_exists = True)\n",
    "df_pfba_exp_sim_errors"
   ]
  },
  {
   "cell_type": "markdown",
   "metadata": {},
   "source": [
    "Below are the simulated vs experimental values plotted for each reaction across the different gene knockout experiments.<p style=\"float: left; font-size: 9pt; text-align: center; width: 50%;\"><img src = \"Results/Case 7/pFBA_figs/0_reacts.png\", width = 100%></p><p style=\"float: left; font-size: 9pt; text-align: center; width: 50%;\"><img src = \"Results/Case 7/pFBA_figs/1_reacts.png\", width = 100%></p><p style=\"float: left; font-size: 9pt; text-align: center; width: 50%;\"><img src = \"Results/Case 7/pFBA_figs/2_reacts.png\", width = 100%></p><p style=\"float: left; font-size: 9pt; text-align: center; width: 50%;\"><img src = \"Results/Case 7/pFBA_figs/3_reacts.png\", width = 100%></p><p style=\"float: left; font-size: 9pt; text-align: center; width: 50%;\"><img src = \"Results/Case 7/pFBA_figs/4_reacts.png\", width = 100%></p><p style=\"float: left; font-size: 9pt; text-align: center; width: 50%;\"><img src = \"Results/Case 7/pFBA_figs/5_reacts.png\", width = 100%></p><p style=\"float: left; font-size: 9pt; text-align: center; width: 50%;\"><img src = \"Results/Case 7/pFBA_figs/6_reacts.png\", width = 100%></p><p style=\"float: left; font-size: 9pt; text-align: center; width: 50%;\"><img src = \"Results/Case 7/pFBA_figs/7_reacts.png\", width = 100%></p><p style=\"float: left; font-size: 9pt; text-align: center; width: 50%;\"><img src = \"Results/Case 7/pFBA_figs/8_reacts.png\", width = 100%></p><p style=\"float: left; font-size: 9pt; text-align: center; width: 50%;\"><img src = \"Results/Case 7/pFBA_figs/9_reacts.png\", width = 100%></p><p style=\"float: left; font-size: 9pt; text-align: center; width: 50%;\"><img src = \"Results/Case 7/pFBA_figs/10_reacts.png\", width = 100%></p>"
   ]
  },
  {
   "cell_type": "markdown",
   "metadata": {},
   "source": [
    "## Flux Variability Analysis (FVA) Simulations\n"
   ]
  },
  {
   "cell_type": "code",
   "execution_count": null,
   "metadata": {},
   "outputs": [],
   "source": [
    "res_fva, res_fva_df, wt_fva_df, df_fva_exp_sim = case7.fvaPipeline(fluxes_O2 = fluxes_O2, exp_dataset = exp_dataset, res_exists = True)\n",
    "df_fva_exp_sim"
   ]
  },
  {
   "cell_type": "markdown",
   "metadata": {},
   "source": [
    "## Linear Minimization of Metabolic Adjustment (LMOMA) Simulations\n"
   ]
  },
  {
   "cell_type": "code",
   "execution_count": null,
   "metadata": {},
   "outputs": [],
   "source": [
    "res_lmoma, res_lmoma_df, wt_lmoma_df, df_lmoma_exp_sim, df_lmoma_exp_sim_errors = case7.lmomaPipeline(fluxes_O2 = fluxes_O2, exp_dataset = exp_dataset, reference_dict = res_pfba, plotGenes = False, plotReacts = False, saveGenesPlot = False, res_exists = True)\n",
    "df_lmoma_exp_sim_errors"
   ]
  },
  {
   "cell_type": "markdown",
   "metadata": {},
   "source": [
    "Below are the simulated vs experimental values plotted for each reaction across the different gene knockout experiments.<p style=\"float: left; font-size: 9pt; text-align: center; width: 50%;\"><img src = \"Results/Case 7/LMOMA_figs/0_reacts.png\", width = 100%></p><p style=\"float: left; font-size: 9pt; text-align: center; width: 50%;\"><img src = \"Results/Case 7/LMOMA_figs/1_reacts.png\", width = 100%></p><p style=\"float: left; font-size: 9pt; text-align: center; width: 50%;\"><img src = \"Results/Case 7/LMOMA_figs/2_reacts.png\", width = 100%></p><p style=\"float: left; font-size: 9pt; text-align: center; width: 50%;\"><img src = \"Results/Case 7/LMOMA_figs/3_reacts.png\", width = 100%></p><p style=\"float: left; font-size: 9pt; text-align: center; width: 50%;\"><img src = \"Results/Case 7/LMOMA_figs/4_reacts.png\", width = 100%></p><p style=\"float: left; font-size: 9pt; text-align: center; width: 50%;\"><img src = \"Results/Case 7/LMOMA_figs/5_reacts.png\", width = 100%></p><p style=\"float: left; font-size: 9pt; text-align: center; width: 50%;\"><img src = \"Results/Case 7/LMOMA_figs/6_reacts.png\", width = 100%></p><p style=\"float: left; font-size: 9pt; text-align: center; width: 50%;\"><img src = \"Results/Case 7/LMOMA_figs/7_reacts.png\", width = 100%></p><p style=\"float: left; font-size: 9pt; text-align: center; width: 50%;\"><img src = \"Results/Case 7/LMOMA_figs/8_reacts.png\", width = 100%></p><p style=\"float: left; font-size: 9pt; text-align: center; width: 50%;\"><img src = \"Results/Case 7/LMOMA_figs/9_reacts.png\", width = 100%></p><p style=\"float: left; font-size: 9pt; text-align: center; width: 50%;\"><img src = \"Results/Case 7/LMOMA_figs/10_reacts.png\", width = 100%></p>"
   ]
  },
  {
   "cell_type": "markdown",
   "metadata": {},
   "source": [
    "# Analysis by Gene Knockout\n"
   ]
  },
  {
   "cell_type": "code",
   "execution_count": null,
   "metadata": {},
   "outputs": [],
   "source": [
    "wt_res = case7.createResultsDataframeWT(reactions, wt_fba_df, wt_pfba_df, wt_lmoma_df, wt_fva_df)\n",
    "wt_res"
   ]
  },
  {
   "cell_type": "code",
   "execution_count": null,
   "metadata": {},
   "outputs": [],
   "source": [
    "genes_res = case7.createResultsDictByGene(df_fba_exp_sim_errors, df_pfba_exp_sim_errors, df_lmoma_exp_sim_errors, df_fva_exp_sim)"
   ]
  },
  {
   "cell_type": "markdown",
   "metadata": {},
   "source": [
    "## ADH3"
   ]
  },
  {
   "cell_type": "code",
   "execution_count": null,
   "metadata": {},
   "outputs": [],
   "source": [
    "genes_res[\"ADH3\"]"
   ]
  },
  {
   "cell_type": "markdown",
   "metadata": {},
   "source": [
    "<p style=\"float: left; font-size: 9pt; text-align: center; width: 50%;\"><img src = \"Results/Case 7/FBA_figs/ADH3_genes.png\", width = 100%>Simulated vs Experiental values for FBA</p><p style=\"float: left; font-size: 9pt; text-align: center; width: 50%;\"><img src = \"Results/Case 7/pFBA_figs/ADH3_genes.png\", width = 100%>Simulated vs Experiental values for pFBA</p><p style=\"float: left; font-size: 9pt; text-align: center; width: 50%;\"><img src = \"Results/Case 7/LMOMA_figs/ADH3_genes.png\", width = 100%>Simulated vs Experiental values for LMOMA</p><p style=\"float: left; font-size: 9pt; text-align: center; width: 50%;\"><img src = \"Results/Case 7/EtOH_figs/ADH3_etOH_pFBA.png\", width = 100%>Ethanol fluxes vs Oxygen fluxes (used to estimate Oxygen flux input)</p>"
   ]
  },
  {
   "cell_type": "markdown",
   "metadata": {},
   "source": [
    "## ALD5"
   ]
  },
  {
   "cell_type": "code",
   "execution_count": null,
   "metadata": {},
   "outputs": [],
   "source": [
    "genes_res[\"ALD5\"]"
   ]
  },
  {
   "cell_type": "markdown",
   "metadata": {},
   "source": [
    "<p style=\"float: left; font-size: 9pt; text-align: center; width: 50%;\"><img src = \"Results/Case 7/FBA_figs/ALD5_genes.png\", width = 100%>Simulated vs Experiental values for FBA</p><p style=\"float: left; font-size: 9pt; text-align: center; width: 50%;\"><img src = \"Results/Case 7/pFBA_figs/ALD5_genes.png\", width = 100%>Simulated vs Experiental values for pFBA</p><p style=\"float: left; font-size: 9pt; text-align: center; width: 50%;\"><img src = \"Results/Case 7/LMOMA_figs/ALD5_genes.png\", width = 100%>Simulated vs Experiental values for LMOMA</p><p style=\"float: left; font-size: 9pt; text-align: center; width: 50%;\"><img src = \"Results/Case 7/EtOH_figs/ALD5_etOH_pFBA.png\", width = 100%>Ethanol fluxes vs Oxygen fluxes (used to estimate Oxygen flux input)</p>"
   ]
  },
  {
   "cell_type": "markdown",
   "metadata": {},
   "source": [
    "## ALD6"
   ]
  },
  {
   "cell_type": "code",
   "execution_count": null,
   "metadata": {},
   "outputs": [],
   "source": [
    "genes_res[\"ALD6\"]"
   ]
  },
  {
   "cell_type": "markdown",
   "metadata": {},
   "source": [
    "<p style=\"float: left; font-size: 9pt; text-align: center; width: 50%;\"><img src = \"Results/Case 7/FBA_figs/ALD6_genes.png\", width = 100%>Simulated vs Experiental values for FBA</p><p style=\"float: left; font-size: 9pt; text-align: center; width: 50%;\"><img src = \"Results/Case 7/pFBA_figs/ALD6_genes.png\", width = 100%>Simulated vs Experiental values for pFBA</p><p style=\"float: left; font-size: 9pt; text-align: center; width: 50%;\"><img src = \"Results/Case 7/LMOMA_figs/ALD6_genes.png\", width = 100%>Simulated vs Experiental values for LMOMA</p><p style=\"float: left; font-size: 9pt; text-align: center; width: 50%;\"><img src = \"Results/Case 7/EtOH_figs/ALD6_etOH_pFBA.png\", width = 100%>Ethanol fluxes vs Oxygen fluxes (used to estimate Oxygen flux input)</p>"
   ]
  },
  {
   "cell_type": "markdown",
   "metadata": {},
   "source": [
    "## COX5A"
   ]
  },
  {
   "cell_type": "code",
   "execution_count": null,
   "metadata": {},
   "outputs": [],
   "source": [
    "genes_res[\"COX5A\"]"
   ]
  },
  {
   "cell_type": "markdown",
   "metadata": {},
   "source": [
    "<p style=\"float: left; font-size: 9pt; text-align: center; width: 50%;\"><img src = \"Results/Case 7/FBA_figs/COX5A_genes.png\", width = 100%>Simulated vs Experiental values for FBA</p><p style=\"float: left; font-size: 9pt; text-align: center; width: 50%;\"><img src = \"Results/Case 7/pFBA_figs/COX5A_genes.png\", width = 100%>Simulated vs Experiental values for pFBA</p><p style=\"float: left; font-size: 9pt; text-align: center; width: 50%;\"><img src = \"Results/Case 7/LMOMA_figs/COX5A_genes.png\", width = 100%>Simulated vs Experiental values for LMOMA</p><p style=\"float: left; font-size: 9pt; text-align: center; width: 50%;\"><img src = \"Results/Case 7/EtOH_figs/COX5A_etOH_pFBA.png\", width = 100%>Ethanol fluxes vs Oxygen fluxes (used to estimate Oxygen flux input)</p>"
   ]
  },
  {
   "cell_type": "markdown",
   "metadata": {},
   "source": [
    "## CTP1"
   ]
  },
  {
   "cell_type": "code",
   "execution_count": null,
   "metadata": {},
   "outputs": [],
   "source": [
    "genes_res[\"CTP1\"]"
   ]
  },
  {
   "cell_type": "markdown",
   "metadata": {},
   "source": [
    "<p style=\"float: left; font-size: 9pt; text-align: center; width: 50%;\"><img src = \"Results/Case 7/FBA_figs/CTP1_genes.png\", width = 100%>Simulated vs Experiental values for FBA</p><p style=\"float: left; font-size: 9pt; text-align: center; width: 50%;\"><img src = \"Results/Case 7/pFBA_figs/CTP1_genes.png\", width = 100%>Simulated vs Experiental values for pFBA</p><p style=\"float: left; font-size: 9pt; text-align: center; width: 50%;\"><img src = \"Results/Case 7/LMOMA_figs/CTP1_genes.png\", width = 100%>Simulated vs Experiental values for LMOMA</p><p style=\"float: left; font-size: 9pt; text-align: center; width: 50%;\"><img src = \"Results/Case 7/EtOH_figs/CTP1_etOH_pFBA.png\", width = 100%>Ethanol fluxes vs Oxygen fluxes (used to estimate Oxygen flux input)</p>"
   ]
  },
  {
   "cell_type": "markdown",
   "metadata": {},
   "source": [
    "## DAL7"
   ]
  },
  {
   "cell_type": "code",
   "execution_count": null,
   "metadata": {},
   "outputs": [],
   "source": [
    "genes_res[\"DAL7\"]"
   ]
  },
  {
   "cell_type": "markdown",
   "metadata": {},
   "source": [
    "<p style=\"float: left; font-size: 9pt; text-align: center; width: 50%;\"><img src = \"Results/Case 7/FBA_figs/DAL7_genes.png\", width = 100%>Simulated vs Experiental values for FBA</p><p style=\"float: left; font-size: 9pt; text-align: center; width: 50%;\"><img src = \"Results/Case 7/pFBA_figs/DAL7_genes.png\", width = 100%>Simulated vs Experiental values for pFBA</p><p style=\"float: left; font-size: 9pt; text-align: center; width: 50%;\"><img src = \"Results/Case 7/LMOMA_figs/DAL7_genes.png\", width = 100%>Simulated vs Experiental values for LMOMA</p><p style=\"float: left; font-size: 9pt; text-align: center; width: 50%;\"><img src = \"Results/Case 7/EtOH_figs/DAL7_etOH_pFBA.png\", width = 100%>Ethanol fluxes vs Oxygen fluxes (used to estimate Oxygen flux input)</p>"
   ]
  },
  {
   "cell_type": "markdown",
   "metadata": {},
   "source": [
    "## FUM1"
   ]
  },
  {
   "cell_type": "code",
   "execution_count": null,
   "metadata": {},
   "outputs": [],
   "source": [
    "genes_res[\"FUM1\"]"
   ]
  },
  {
   "cell_type": "markdown",
   "metadata": {},
   "source": [
    "<p style=\"float: left; font-size: 9pt; text-align: center; width: 50%;\"><img src = \"Results/Case 7/FBA_figs/FUM1_genes.png\", width = 100%>Simulated vs Experiental values for FBA</p><p style=\"float: left; font-size: 9pt; text-align: center; width: 50%;\"><img src = \"Results/Case 7/pFBA_figs/FUM1_genes.png\", width = 100%>Simulated vs Experiental values for pFBA</p><p style=\"float: left; font-size: 9pt; text-align: center; width: 50%;\"><img src = \"Results/Case 7/LMOMA_figs/FUM1_genes.png\", width = 100%>Simulated vs Experiental values for LMOMA</p><p style=\"float: left; font-size: 9pt; text-align: center; width: 50%;\"><img src = \"Results/Case 7/EtOH_figs/FUM1_etOH_pFBA.png\", width = 100%>Ethanol fluxes vs Oxygen fluxes (used to estimate Oxygen flux input)</p>"
   ]
  },
  {
   "cell_type": "markdown",
   "metadata": {},
   "source": [
    "## GCV2"
   ]
  },
  {
   "cell_type": "code",
   "execution_count": null,
   "metadata": {},
   "outputs": [],
   "source": [
    "genes_res[\"GCV2\"]"
   ]
  },
  {
   "cell_type": "markdown",
   "metadata": {},
   "source": [
    "<p style=\"float: left; font-size: 9pt; text-align: center; width: 50%;\"><img src = \"Results/Case 7/FBA_figs/GCV2_genes.png\", width = 100%>Simulated vs Experiental values for FBA</p><p style=\"float: left; font-size: 9pt; text-align: center; width: 50%;\"><img src = \"Results/Case 7/pFBA_figs/GCV2_genes.png\", width = 100%>Simulated vs Experiental values for pFBA</p><p style=\"float: left; font-size: 9pt; text-align: center; width: 50%;\"><img src = \"Results/Case 7/LMOMA_figs/GCV2_genes.png\", width = 100%>Simulated vs Experiental values for LMOMA</p><p style=\"float: left; font-size: 9pt; text-align: center; width: 50%;\"><img src = \"Results/Case 7/EtOH_figs/GCV2_etOH_pFBA.png\", width = 100%>Ethanol fluxes vs Oxygen fluxes (used to estimate Oxygen flux input)</p>"
   ]
  },
  {
   "cell_type": "markdown",
   "metadata": {},
   "source": [
    "## GLY1"
   ]
  },
  {
   "cell_type": "code",
   "execution_count": null,
   "metadata": {},
   "outputs": [],
   "source": [
    "genes_res[\"GLY1\"]"
   ]
  },
  {
   "cell_type": "markdown",
   "metadata": {},
   "source": [
    "<p style=\"float: left; font-size: 9pt; text-align: center; width: 50%;\"><img src = \"Results/Case 7/FBA_figs/GLY1_genes.png\", width = 100%>Simulated vs Experiental values for FBA</p><p style=\"float: left; font-size: 9pt; text-align: center; width: 50%;\"><img src = \"Results/Case 7/pFBA_figs/GLY1_genes.png\", width = 100%>Simulated vs Experiental values for pFBA</p><p style=\"float: left; font-size: 9pt; text-align: center; width: 50%;\"><img src = \"Results/Case 7/LMOMA_figs/GLY1_genes.png\", width = 100%>Simulated vs Experiental values for LMOMA</p><p style=\"float: left; font-size: 9pt; text-align: center; width: 50%;\"><img src = \"Results/Case 7/EtOH_figs/GLY1_etOH_pFBA.png\", width = 100%>Ethanol fluxes vs Oxygen fluxes (used to estimate Oxygen flux input)</p>"
   ]
  },
  {
   "cell_type": "markdown",
   "metadata": {},
   "source": [
    "## GND2"
   ]
  },
  {
   "cell_type": "code",
   "execution_count": null,
   "metadata": {},
   "outputs": [],
   "source": [
    "genes_res[\"GND2\"]"
   ]
  },
  {
   "cell_type": "markdown",
   "metadata": {},
   "source": [
    "<p style=\"float: left; font-size: 9pt; text-align: center; width: 50%;\"><img src = \"Results/Case 7/FBA_figs/GND2_genes.png\", width = 100%>Simulated vs Experiental values for FBA</p><p style=\"float: left; font-size: 9pt; text-align: center; width: 50%;\"><img src = \"Results/Case 7/pFBA_figs/GND2_genes.png\", width = 100%>Simulated vs Experiental values for pFBA</p><p style=\"float: left; font-size: 9pt; text-align: center; width: 50%;\"><img src = \"Results/Case 7/LMOMA_figs/GND2_genes.png\", width = 100%>Simulated vs Experiental values for LMOMA</p><p style=\"float: left; font-size: 9pt; text-align: center; width: 50%;\"><img src = \"Results/Case 7/EtOH_figs/GND2_etOH_pFBA.png\", width = 100%>Ethanol fluxes vs Oxygen fluxes (used to estimate Oxygen flux input)</p>"
   ]
  },
  {
   "cell_type": "markdown",
   "metadata": {},
   "source": [
    "## GPD1"
   ]
  },
  {
   "cell_type": "code",
   "execution_count": null,
   "metadata": {},
   "outputs": [],
   "source": [
    "genes_res[\"GPD1\"]"
   ]
  },
  {
   "cell_type": "markdown",
   "metadata": {},
   "source": [
    "<p style=\"float: left; font-size: 9pt; text-align: center; width: 50%;\"><img src = \"Results/Case 7/FBA_figs/GPD1_genes.png\", width = 100%>Simulated vs Experiental values for FBA</p><p style=\"float: left; font-size: 9pt; text-align: center; width: 50%;\"><img src = \"Results/Case 7/pFBA_figs/GPD1_genes.png\", width = 100%>Simulated vs Experiental values for pFBA</p><p style=\"float: left; font-size: 9pt; text-align: center; width: 50%;\"><img src = \"Results/Case 7/LMOMA_figs/GPD1_genes.png\", width = 100%>Simulated vs Experiental values for LMOMA</p><p style=\"float: left; font-size: 9pt; text-align: center; width: 50%;\"><img src = \"Results/Case 7/EtOH_figs/GPD1_etOH_pFBA.png\", width = 100%>Ethanol fluxes vs Oxygen fluxes (used to estimate Oxygen flux input)</p>"
   ]
  },
  {
   "cell_type": "markdown",
   "metadata": {},
   "source": [
    "## ICL1"
   ]
  },
  {
   "cell_type": "code",
   "execution_count": null,
   "metadata": {},
   "outputs": [],
   "source": [
    "genes_res[\"ICL1\"]"
   ]
  },
  {
   "cell_type": "markdown",
   "metadata": {},
   "source": [
    "<p style=\"float: left; font-size: 9pt; text-align: center; width: 50%;\"><img src = \"Results/Case 7/FBA_figs/ICL1_genes.png\", width = 100%>Simulated vs Experiental values for FBA</p><p style=\"float: left; font-size: 9pt; text-align: center; width: 50%;\"><img src = \"Results/Case 7/pFBA_figs/ICL1_genes.png\", width = 100%>Simulated vs Experiental values for pFBA</p><p style=\"float: left; font-size: 9pt; text-align: center; width: 50%;\"><img src = \"Results/Case 7/LMOMA_figs/ICL1_genes.png\", width = 100%>Simulated vs Experiental values for LMOMA</p><p style=\"float: left; font-size: 9pt; text-align: center; width: 50%;\"><img src = \"Results/Case 7/EtOH_figs/ICL1_etOH_pFBA.png\", width = 100%>Ethanol fluxes vs Oxygen fluxes (used to estimate Oxygen flux input)</p>"
   ]
  },
  {
   "cell_type": "markdown",
   "metadata": {},
   "source": [
    "## IDP1"
   ]
  },
  {
   "cell_type": "code",
   "execution_count": null,
   "metadata": {},
   "outputs": [],
   "source": [
    "genes_res[\"IDP1\"]"
   ]
  },
  {
   "cell_type": "markdown",
   "metadata": {},
   "source": [
    "<p style=\"float: left; font-size: 9pt; text-align: center; width: 50%;\"><img src = \"Results/Case 7/FBA_figs/IDP1_genes.png\", width = 100%>Simulated vs Experiental values for FBA</p><p style=\"float: left; font-size: 9pt; text-align: center; width: 50%;\"><img src = \"Results/Case 7/pFBA_figs/IDP1_genes.png\", width = 100%>Simulated vs Experiental values for pFBA</p><p style=\"float: left; font-size: 9pt; text-align: center; width: 50%;\"><img src = \"Results/Case 7/LMOMA_figs/IDP1_genes.png\", width = 100%>Simulated vs Experiental values for LMOMA</p><p style=\"float: left; font-size: 9pt; text-align: center; width: 50%;\"><img src = \"Results/Case 7/EtOH_figs/IDP1_etOH_pFBA.png\", width = 100%>Ethanol fluxes vs Oxygen fluxes (used to estimate Oxygen flux input)</p>"
   ]
  },
  {
   "cell_type": "markdown",
   "metadata": {},
   "source": [
    "## IDP2"
   ]
  },
  {
   "cell_type": "code",
   "execution_count": null,
   "metadata": {},
   "outputs": [],
   "source": [
    "genes_res[\"IDP2\"]"
   ]
  },
  {
   "cell_type": "markdown",
   "metadata": {},
   "source": [
    "<p style=\"float: left; font-size: 9pt; text-align: center; width: 50%;\"><img src = \"Results/Case 7/FBA_figs/IDP2_genes.png\", width = 100%>Simulated vs Experiental values for FBA</p><p style=\"float: left; font-size: 9pt; text-align: center; width: 50%;\"><img src = \"Results/Case 7/pFBA_figs/IDP2_genes.png\", width = 100%>Simulated vs Experiental values for pFBA</p><p style=\"float: left; font-size: 9pt; text-align: center; width: 50%;\"><img src = \"Results/Case 7/LMOMA_figs/IDP2_genes.png\", width = 100%>Simulated vs Experiental values for LMOMA</p><p style=\"float: left; font-size: 9pt; text-align: center; width: 50%;\"><img src = \"Results/Case 7/EtOH_figs/IDP2_etOH_pFBA.png\", width = 100%>Ethanol fluxes vs Oxygen fluxes (used to estimate Oxygen flux input)</p>"
   ]
  },
  {
   "cell_type": "markdown",
   "metadata": {},
   "source": [
    "## LSC1"
   ]
  },
  {
   "cell_type": "code",
   "execution_count": null,
   "metadata": {},
   "outputs": [],
   "source": [
    "genes_res[\"LSC1\"]"
   ]
  },
  {
   "cell_type": "markdown",
   "metadata": {},
   "source": [
    "<p style=\"float: left; font-size: 9pt; text-align: center; width: 50%;\"><img src = \"Results/Case 7/FBA_figs/LSC1_genes.png\", width = 100%>Simulated vs Experiental values for FBA</p><p style=\"float: left; font-size: 9pt; text-align: center; width: 50%;\"><img src = \"Results/Case 7/pFBA_figs/LSC1_genes.png\", width = 100%>Simulated vs Experiental values for pFBA</p><p style=\"float: left; font-size: 9pt; text-align: center; width: 50%;\"><img src = \"Results/Case 7/LMOMA_figs/LSC1_genes.png\", width = 100%>Simulated vs Experiental values for LMOMA</p><p style=\"float: left; font-size: 9pt; text-align: center; width: 50%;\"><img src = \"Results/Case 7/EtOH_figs/LSC1_etOH_pFBA.png\", width = 100%>Ethanol fluxes vs Oxygen fluxes (used to estimate Oxygen flux input)</p>"
   ]
  },
  {
   "cell_type": "markdown",
   "metadata": {},
   "source": [
    "## MAE1"
   ]
  },
  {
   "cell_type": "code",
   "execution_count": null,
   "metadata": {},
   "outputs": [],
   "source": [
    "genes_res[\"MAE1\"]"
   ]
  },
  {
   "cell_type": "markdown",
   "metadata": {},
   "source": [
    "<p style=\"float: left; font-size: 9pt; text-align: center; width: 50%;\"><img src = \"Results/Case 7/FBA_figs/MAE1_genes.png\", width = 100%>Simulated vs Experiental values for FBA</p><p style=\"float: left; font-size: 9pt; text-align: center; width: 50%;\"><img src = \"Results/Case 7/pFBA_figs/MAE1_genes.png\", width = 100%>Simulated vs Experiental values for pFBA</p><p style=\"float: left; font-size: 9pt; text-align: center; width: 50%;\"><img src = \"Results/Case 7/LMOMA_figs/MAE1_genes.png\", width = 100%>Simulated vs Experiental values for LMOMA</p><p style=\"float: left; font-size: 9pt; text-align: center; width: 50%;\"><img src = \"Results/Case 7/EtOH_figs/MAE1_etOH_pFBA.png\", width = 100%>Ethanol fluxes vs Oxygen fluxes (used to estimate Oxygen flux input)</p>"
   ]
  },
  {
   "cell_type": "markdown",
   "metadata": {},
   "source": [
    "## MDH1"
   ]
  },
  {
   "cell_type": "code",
   "execution_count": null,
   "metadata": {},
   "outputs": [],
   "source": [
    "genes_res[\"MDH1\"]"
   ]
  },
  {
   "cell_type": "markdown",
   "metadata": {},
   "source": [
    "<p style=\"float: left; font-size: 9pt; text-align: center; width: 50%;\"><img src = \"Results/Case 7/FBA_figs/MDH1_genes.png\", width = 100%>Simulated vs Experiental values for FBA</p><p style=\"float: left; font-size: 9pt; text-align: center; width: 50%;\"><img src = \"Results/Case 7/pFBA_figs/MDH1_genes.png\", width = 100%>Simulated vs Experiental values for pFBA</p><p style=\"float: left; font-size: 9pt; text-align: center; width: 50%;\"><img src = \"Results/Case 7/LMOMA_figs/MDH1_genes.png\", width = 100%>Simulated vs Experiental values for LMOMA</p><p style=\"float: left; font-size: 9pt; text-align: center; width: 50%;\"><img src = \"Results/Case 7/EtOH_figs/MDH1_etOH_pFBA.png\", width = 100%>Ethanol fluxes vs Oxygen fluxes (used to estimate Oxygen flux input)</p>"
   ]
  },
  {
   "cell_type": "markdown",
   "metadata": {},
   "source": [
    "## MDH3"
   ]
  },
  {
   "cell_type": "code",
   "execution_count": null,
   "metadata": {},
   "outputs": [],
   "source": [
    "genes_res[\"MDH3\"]"
   ]
  },
  {
   "cell_type": "markdown",
   "metadata": {},
   "source": [
    "<p style=\"float: left; font-size: 9pt; text-align: center; width: 50%;\"><img src = \"Results/Case 7/FBA_figs/MDH3_genes.png\", width = 100%>Simulated vs Experiental values for FBA</p><p style=\"float: left; font-size: 9pt; text-align: center; width: 50%;\"><img src = \"Results/Case 7/pFBA_figs/MDH3_genes.png\", width = 100%>Simulated vs Experiental values for pFBA</p><p style=\"float: left; font-size: 9pt; text-align: center; width: 50%;\"><img src = \"Results/Case 7/LMOMA_figs/MDH3_genes.png\", width = 100%>Simulated vs Experiental values for LMOMA</p><p style=\"float: left; font-size: 9pt; text-align: center; width: 50%;\"><img src = \"Results/Case 7/EtOH_figs/MDH3_etOH_pFBA.png\", width = 100%>Ethanol fluxes vs Oxygen fluxes (used to estimate Oxygen flux input)</p>"
   ]
  },
  {
   "cell_type": "markdown",
   "metadata": {},
   "source": [
    "## OAC1"
   ]
  },
  {
   "cell_type": "code",
   "execution_count": null,
   "metadata": {},
   "outputs": [],
   "source": [
    "genes_res[\"OAC1\"]"
   ]
  },
  {
   "cell_type": "markdown",
   "metadata": {},
   "source": [
    "<p style=\"float: left; font-size: 9pt; text-align: center; width: 50%;\"><img src = \"Results/Case 7/FBA_figs/OAC1_genes.png\", width = 100%>Simulated vs Experiental values for FBA</p><p style=\"float: left; font-size: 9pt; text-align: center; width: 50%;\"><img src = \"Results/Case 7/pFBA_figs/OAC1_genes.png\", width = 100%>Simulated vs Experiental values for pFBA</p><p style=\"float: left; font-size: 9pt; text-align: center; width: 50%;\"><img src = \"Results/Case 7/LMOMA_figs/OAC1_genes.png\", width = 100%>Simulated vs Experiental values for LMOMA</p><p style=\"float: left; font-size: 9pt; text-align: center; width: 50%;\"><img src = \"Results/Case 7/EtOH_figs/OAC1_etOH_pFBA.png\", width = 100%>Ethanol fluxes vs Oxygen fluxes (used to estimate Oxygen flux input)</p>"
   ]
  },
  {
   "cell_type": "markdown",
   "metadata": {},
   "source": [
    "## PCK1"
   ]
  },
  {
   "cell_type": "code",
   "execution_count": null,
   "metadata": {},
   "outputs": [],
   "source": [
    "genes_res[\"PCK1\"]"
   ]
  },
  {
   "cell_type": "markdown",
   "metadata": {},
   "source": [
    "<p style=\"float: left; font-size: 9pt; text-align: center; width: 50%;\"><img src = \"Results/Case 7/FBA_figs/PCK1_genes.png\", width = 100%>Simulated vs Experiental values for FBA</p><p style=\"float: left; font-size: 9pt; text-align: center; width: 50%;\"><img src = \"Results/Case 7/pFBA_figs/PCK1_genes.png\", width = 100%>Simulated vs Experiental values for pFBA</p><p style=\"float: left; font-size: 9pt; text-align: center; width: 50%;\"><img src = \"Results/Case 7/LMOMA_figs/PCK1_genes.png\", width = 100%>Simulated vs Experiental values for LMOMA</p><p style=\"float: left; font-size: 9pt; text-align: center; width: 50%;\"><img src = \"Results/Case 7/EtOH_figs/PCK1_etOH_pFBA.png\", width = 100%>Ethanol fluxes vs Oxygen fluxes (used to estimate Oxygen flux input)</p>"
   ]
  },
  {
   "cell_type": "markdown",
   "metadata": {},
   "source": [
    "## PDA1"
   ]
  },
  {
   "cell_type": "code",
   "execution_count": null,
   "metadata": {},
   "outputs": [],
   "source": [
    "genes_res[\"PDA1\"]"
   ]
  },
  {
   "cell_type": "markdown",
   "metadata": {},
   "source": [
    "<p style=\"float: left; font-size: 9pt; text-align: center; width: 50%;\"><img src = \"Results/Case 7/FBA_figs/PDA1_genes.png\", width = 100%>Simulated vs Experiental values for FBA</p><p style=\"float: left; font-size: 9pt; text-align: center; width: 50%;\"><img src = \"Results/Case 7/pFBA_figs/PDA1_genes.png\", width = 100%>Simulated vs Experiental values for pFBA</p><p style=\"float: left; font-size: 9pt; text-align: center; width: 50%;\"><img src = \"Results/Case 7/LMOMA_figs/PDA1_genes.png\", width = 100%>Simulated vs Experiental values for LMOMA</p><p style=\"float: left; font-size: 9pt; text-align: center; width: 50%;\"><img src = \"Results/Case 7/EtOH_figs/PDA1_etOH_pFBA.png\", width = 100%>Ethanol fluxes vs Oxygen fluxes (used to estimate Oxygen flux input)</p>"
   ]
  },
  {
   "cell_type": "markdown",
   "metadata": {},
   "source": [
    "## PGM1"
   ]
  },
  {
   "cell_type": "code",
   "execution_count": null,
   "metadata": {},
   "outputs": [],
   "source": [
    "genes_res[\"PGM1\"]"
   ]
  },
  {
   "cell_type": "markdown",
   "metadata": {},
   "source": [
    "<p style=\"float: left; font-size: 9pt; text-align: center; width: 50%;\"><img src = \"Results/Case 7/FBA_figs/PGM1_genes.png\", width = 100%>Simulated vs Experiental values for FBA</p><p style=\"float: left; font-size: 9pt; text-align: center; width: 50%;\"><img src = \"Results/Case 7/pFBA_figs/PGM1_genes.png\", width = 100%>Simulated vs Experiental values for pFBA</p><p style=\"float: left; font-size: 9pt; text-align: center; width: 50%;\"><img src = \"Results/Case 7/LMOMA_figs/PGM1_genes.png\", width = 100%>Simulated vs Experiental values for LMOMA</p><p style=\"float: left; font-size: 9pt; text-align: center; width: 50%;\"><img src = \"Results/Case 7/EtOH_figs/PGM1_etOH_pFBA.png\", width = 100%>Ethanol fluxes vs Oxygen fluxes (used to estimate Oxygen flux input)</p>"
   ]
  },
  {
   "cell_type": "markdown",
   "metadata": {},
   "source": [
    "## PGM2"
   ]
  },
  {
   "cell_type": "code",
   "execution_count": null,
   "metadata": {},
   "outputs": [],
   "source": [
    "genes_res[\"PGM2\"]"
   ]
  },
  {
   "cell_type": "markdown",
   "metadata": {},
   "source": [
    "<p style=\"float: left; font-size: 9pt; text-align: center; width: 50%;\"><img src = \"Results/Case 7/FBA_figs/PGM2_genes.png\", width = 100%>Simulated vs Experiental values for FBA</p><p style=\"float: left; font-size: 9pt; text-align: center; width: 50%;\"><img src = \"Results/Case 7/pFBA_figs/PGM2_genes.png\", width = 100%>Simulated vs Experiental values for pFBA</p><p style=\"float: left; font-size: 9pt; text-align: center; width: 50%;\"><img src = \"Results/Case 7/LMOMA_figs/PGM2_genes.png\", width = 100%>Simulated vs Experiental values for LMOMA</p><p style=\"float: left; font-size: 9pt; text-align: center; width: 50%;\"><img src = \"Results/Case 7/EtOH_figs/PGM2_etOH_pFBA.png\", width = 100%>Ethanol fluxes vs Oxygen fluxes (used to estimate Oxygen flux input)</p>"
   ]
  },
  {
   "cell_type": "markdown",
   "metadata": {},
   "source": [
    "## RPE1"
   ]
  },
  {
   "cell_type": "code",
   "execution_count": null,
   "metadata": {},
   "outputs": [],
   "source": [
    "genes_res[\"RPE1\"]"
   ]
  },
  {
   "cell_type": "markdown",
   "metadata": {},
   "source": [
    "<p style=\"float: left; font-size: 9pt; text-align: center; width: 50%;\"><img src = \"Results/Case 7/FBA_figs/RPE1_genes.png\", width = 100%>Simulated vs Experiental values for FBA</p><p style=\"float: left; font-size: 9pt; text-align: center; width: 50%;\"><img src = \"Results/Case 7/pFBA_figs/RPE1_genes.png\", width = 100%>Simulated vs Experiental values for pFBA</p><p style=\"float: left; font-size: 9pt; text-align: center; width: 50%;\"><img src = \"Results/Case 7/LMOMA_figs/RPE1_genes.png\", width = 100%>Simulated vs Experiental values for LMOMA</p><p style=\"float: left; font-size: 9pt; text-align: center; width: 50%;\"><img src = \"Results/Case 7/EtOH_figs/RPE1_etOH_pFBA.png\", width = 100%>Ethanol fluxes vs Oxygen fluxes (used to estimate Oxygen flux input)</p>"
   ]
  },
  {
   "cell_type": "markdown",
   "metadata": {},
   "source": [
    "## SDH1"
   ]
  },
  {
   "cell_type": "code",
   "execution_count": null,
   "metadata": {},
   "outputs": [],
   "source": [
    "genes_res[\"SDH1\"]"
   ]
  },
  {
   "cell_type": "markdown",
   "metadata": {},
   "source": [
    "<p style=\"float: left; font-size: 9pt; text-align: center; width: 50%;\"><img src = \"Results/Case 7/FBA_figs/SDH1_genes.png\", width = 100%>Simulated vs Experiental values for FBA</p><p style=\"float: left; font-size: 9pt; text-align: center; width: 50%;\"><img src = \"Results/Case 7/pFBA_figs/SDH1_genes.png\", width = 100%>Simulated vs Experiental values for pFBA</p><p style=\"float: left; font-size: 9pt; text-align: center; width: 50%;\"><img src = \"Results/Case 7/LMOMA_figs/SDH1_genes.png\", width = 100%>Simulated vs Experiental values for LMOMA</p><p style=\"float: left; font-size: 9pt; text-align: center; width: 50%;\"><img src = \"Results/Case 7/EtOH_figs/SDH1_etOH_pFBA.png\", width = 100%>Ethanol fluxes vs Oxygen fluxes (used to estimate Oxygen flux input)</p>"
   ]
  },
  {
   "cell_type": "markdown",
   "metadata": {},
   "source": [
    "## SER33"
   ]
  },
  {
   "cell_type": "code",
   "execution_count": null,
   "metadata": {},
   "outputs": [],
   "source": [
    "genes_res[\"SER33\"]"
   ]
  },
  {
   "cell_type": "markdown",
   "metadata": {},
   "source": [
    "<p style=\"float: left; font-size: 9pt; text-align: center; width: 50%;\"><img src = \"Results/Case 7/FBA_figs/SER33_genes.png\", width = 100%>Simulated vs Experiental values for FBA</p><p style=\"float: left; font-size: 9pt; text-align: center; width: 50%;\"><img src = \"Results/Case 7/pFBA_figs/SER33_genes.png\", width = 100%>Simulated vs Experiental values for pFBA</p><p style=\"float: left; font-size: 9pt; text-align: center; width: 50%;\"><img src = \"Results/Case 7/LMOMA_figs/SER33_genes.png\", width = 100%>Simulated vs Experiental values for LMOMA</p><p style=\"float: left; font-size: 9pt; text-align: center; width: 50%;\"><img src = \"Results/Case 7/EtOH_figs/SER33_etOH_pFBA.png\", width = 100%>Ethanol fluxes vs Oxygen fluxes (used to estimate Oxygen flux input)</p>"
   ]
  },
  {
   "cell_type": "markdown",
   "metadata": {},
   "source": [
    "## SFC1"
   ]
  },
  {
   "cell_type": "code",
   "execution_count": null,
   "metadata": {},
   "outputs": [],
   "source": [
    "genes_res[\"SFC1\"]"
   ]
  },
  {
   "cell_type": "markdown",
   "metadata": {},
   "source": [
    "<p style=\"float: left; font-size: 9pt; text-align: center; width: 50%;\"><img src = \"Results/Case 7/FBA_figs/SFC1_genes.png\", width = 100%>Simulated vs Experiental values for FBA</p><p style=\"float: left; font-size: 9pt; text-align: center; width: 50%;\"><img src = \"Results/Case 7/pFBA_figs/SFC1_genes.png\", width = 100%>Simulated vs Experiental values for pFBA</p><p style=\"float: left; font-size: 9pt; text-align: center; width: 50%;\"><img src = \"Results/Case 7/LMOMA_figs/SFC1_genes.png\", width = 100%>Simulated vs Experiental values for LMOMA</p><p style=\"float: left; font-size: 9pt; text-align: center; width: 50%;\"><img src = \"Results/Case 7/EtOH_figs/SFC1_etOH_pFBA.png\", width = 100%>Ethanol fluxes vs Oxygen fluxes (used to estimate Oxygen flux input)</p>"
   ]
  },
  {
   "cell_type": "markdown",
   "metadata": {},
   "source": [
    "## SOL3"
   ]
  },
  {
   "cell_type": "code",
   "execution_count": null,
   "metadata": {},
   "outputs": [],
   "source": [
    "genes_res[\"SOL3\"]"
   ]
  },
  {
   "cell_type": "markdown",
   "metadata": {},
   "source": [
    "<p style=\"float: left; font-size: 9pt; text-align: center; width: 50%;\"><img src = \"Results/Case 7/FBA_figs/SOL3_genes.png\", width = 100%>Simulated vs Experiental values for FBA</p><p style=\"float: left; font-size: 9pt; text-align: center; width: 50%;\"><img src = \"Results/Case 7/pFBA_figs/SOL3_genes.png\", width = 100%>Simulated vs Experiental values for pFBA</p><p style=\"float: left; font-size: 9pt; text-align: center; width: 50%;\"><img src = \"Results/Case 7/LMOMA_figs/SOL3_genes.png\", width = 100%>Simulated vs Experiental values for LMOMA</p><p style=\"float: left; font-size: 9pt; text-align: center; width: 50%;\"><img src = \"Results/Case 7/EtOH_figs/SOL3_etOH_pFBA.png\", width = 100%>Ethanol fluxes vs Oxygen fluxes (used to estimate Oxygen flux input)</p>"
   ]
  },
  {
   "cell_type": "markdown",
   "metadata": {},
   "source": [
    "## SOL4"
   ]
  },
  {
   "cell_type": "code",
   "execution_count": null,
   "metadata": {},
   "outputs": [],
   "source": [
    "genes_res[\"SOL4\"]"
   ]
  },
  {
   "cell_type": "markdown",
   "metadata": {},
   "source": [
    "<p style=\"float: left; font-size: 9pt; text-align: center; width: 50%;\"><img src = \"Results/Case 7/FBA_figs/SOL4_genes.png\", width = 100%>Simulated vs Experiental values for FBA</p><p style=\"float: left; font-size: 9pt; text-align: center; width: 50%;\"><img src = \"Results/Case 7/pFBA_figs/SOL4_genes.png\", width = 100%>Simulated vs Experiental values for pFBA</p><p style=\"float: left; font-size: 9pt; text-align: center; width: 50%;\"><img src = \"Results/Case 7/LMOMA_figs/SOL4_genes.png\", width = 100%>Simulated vs Experiental values for LMOMA</p><p style=\"float: left; font-size: 9pt; text-align: center; width: 50%;\"><img src = \"Results/Case 7/EtOH_figs/SOL4_etOH_pFBA.png\", width = 100%>Ethanol fluxes vs Oxygen fluxes (used to estimate Oxygen flux input)</p>"
   ]
  },
  {
   "cell_type": "markdown",
   "metadata": {},
   "source": [
    "## TAL1"
   ]
  },
  {
   "cell_type": "code",
   "execution_count": null,
   "metadata": {},
   "outputs": [],
   "source": [
    "genes_res[\"TAL1\"]"
   ]
  },
  {
   "cell_type": "markdown",
   "metadata": {},
   "source": [
    "<p style=\"float: left; font-size: 9pt; text-align: center; width: 50%;\"><img src = \"Results/Case 7/FBA_figs/TAL1_genes.png\", width = 100%>Simulated vs Experiental values for FBA</p><p style=\"float: left; font-size: 9pt; text-align: center; width: 50%;\"><img src = \"Results/Case 7/pFBA_figs/TAL1_genes.png\", width = 100%>Simulated vs Experiental values for pFBA</p><p style=\"float: left; font-size: 9pt; text-align: center; width: 50%;\"><img src = \"Results/Case 7/LMOMA_figs/TAL1_genes.png\", width = 100%>Simulated vs Experiental values for LMOMA</p><p style=\"float: left; font-size: 9pt; text-align: center; width: 50%;\"><img src = \"Results/Case 7/EtOH_figs/TAL1_etOH_pFBA.png\", width = 100%>Ethanol fluxes vs Oxygen fluxes (used to estimate Oxygen flux input)</p>"
   ]
  },
  {
   "cell_type": "markdown",
   "metadata": {},
   "source": [
    "## ZWF1"
   ]
  },
  {
   "cell_type": "code",
   "execution_count": null,
   "metadata": {},
   "outputs": [],
   "source": [
    "genes_res[\"ZWF1\"]"
   ]
  },
  {
   "cell_type": "markdown",
   "metadata": {},
   "source": [
    "<p style=\"float: left; font-size: 9pt; text-align: center; width: 50%;\"><img src = \"Results/Case 7/FBA_figs/ZWF1_genes.png\", width = 100%>Simulated vs Experiental values for FBA</p><p style=\"float: left; font-size: 9pt; text-align: center; width: 50%;\"><img src = \"Results/Case 7/pFBA_figs/ZWF1_genes.png\", width = 100%>Simulated vs Experiental values for pFBA</p><p style=\"float: left; font-size: 9pt; text-align: center; width: 50%;\"><img src = \"Results/Case 7/LMOMA_figs/ZWF1_genes.png\", width = 100%>Simulated vs Experiental values for LMOMA</p><p style=\"float: left; font-size: 9pt; text-align: center; width: 50%;\"><img src = \"Results/Case 7/EtOH_figs/ZWF1_etOH_pFBA.png\", width = 100%>Ethanol fluxes vs Oxygen fluxes (used to estimate Oxygen flux input)</p>"
   ]
  }
 ],
 "metadata": {
  "kernelspec": {
   "display_name": "Python 3",
   "language": "python",
   "name": "python3"
  },
  "language_info": {
   "codemirror_mode": {
    "name": "ipython",
    "version": 3
   },
   "file_extension": ".py",
   "mimetype": "text/x-python",
   "name": "python",
   "nbconvert_exporter": "python",
   "pygments_lexer": "ipython3",
   "version": "3.5.2"
  }
 },
 "nbformat": 4,
 "nbformat_minor": 1
}
