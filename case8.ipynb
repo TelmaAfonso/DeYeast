{
 "cells": [
  {
   "cell_type": "markdown",
   "metadata": {},
   "source": [
    "# Case 8 Report (Kuepfer et al, 2005)\n",
    "This report contains the results with case 8 simulations.\n",
    "Paper: [*Metabolic functions of duplicate genes in Saccharomyces cerevisiae*](http://genome.cshlp.org/content/15/10/1421.long)\n",
    "**Abstract**\n",
    "The roles of duplicate genes and their contribution to the phenomenon of enzyme dispensability are a central issue\n",
    "in molecular and genome evolution. A comprehensive classification of the mechanisms that may have led to their\n",
    "preservation, however, is currently lacking. In a systems biology approach, we classify here back-up, regulatory, and\n",
    "gene dosage functions for the 105 duplicate gene families of Saccharomyces cerevisiae metabolism. The key tool was the\n",
    "reconciled genome-scale metabolic model iLL672, which was based on the older iFF708. Computational predictions of\n",
    "all metabolic gene knockouts were validated with the experimentally determined phenotypes of the entire singleton\n",
    "yeast library of 4658 mutants under five environmental conditions. iLL672 correctly identified 96%�98% and\n",
    "73%�80% of the viable and lethal singleton phenotypes, respectively. Functional roles for each duplicate family\n",
    "were identified by integrating the iLL672-predicted in silico duplicate knockout phenotypes, genome-scale\n",
    "carbon-flux distributions, singleton mutant phenotypes, and network topology analysis. The results provide no\n",
    "evidence for a particular dominant function that maintains duplicate genes in the genome. In particular, the back-up\n",
    "function is not favored by evolutionary selection because duplicates do not occur more frequently in essential\n",
    "reactions than singleton genes. Instead of a prevailing role, multigene-encoded enzymes cover different functions.\n",
    "Thus, at least for metabolism, persistence of the paralog fraction in the genome can be better explained with an\n",
    "array of different, often overlapping functional roles.\n",
    "**NOTES**\n",
    "- Strain BY4741  (MATa his3 delta1 leu2 delta0 met15 delta0 ura3 delta0) used in this study is derived from that used to build the model (S288C)\n",
    "- O2 flux estimation not possible (ethanol flux of 0 independently of O2 flux)\n",
    "- Authors did not provide specific rate values (used Sophia's rates instead)\n",
    "<p style=\"float: center; font-size: 9pt; text-align: center; width: 100%;\"><img src = \"Results/Case 8/kuepfer_2005_fig4\", width = 80%></p>\n"
   ]
  },
  {
   "cell_type": "code",
   "execution_count": null,
   "metadata": {},
   "outputs": [],
   "source": [
    "import warnings\n",
    "from case_8 import *\n",
    "pd.set_option('display.max_colwidth', -1)\n",
    "warnings.filterwarnings('ignore')\n",
    "#Initialization\n",
    "case8 = Case8()\n",
    "case8.model = case8.loadObjectFromFile('model_yeast_76.sav')\n",
    "case8.model.solver = 'optlang-cplex'\n",
    "case8.setMedium('MINIMAL')\n",
    "case8.dictsForCase8()"
   ]
  },
  {
   "cell_type": "markdown",
   "metadata": {},
   "source": [
    "## General datasets\n"
   ]
  },
  {
   "cell_type": "code",
   "execution_count": null,
   "metadata": {},
   "outputs": [],
   "source": [
    "#S. Cerevisiae BY4741 deltas\n",
    "genes = ['HIS3', 'LEU2', 'MET17', 'URA3']\n",
    "genes = list(case8.convertStdToSyst(genes).values())\n",
    "exp_dataset, reactions = case8.loadExperimentalRes('Results/Case 8/case8_experimental_fluxes.csv')"
   ]
  },
  {
   "cell_type": "markdown",
   "metadata": {},
   "source": [
    "# Glucose carbon source\n"
   ]
  },
  {
   "cell_type": "markdown",
   "metadata": {},
   "source": [
    "## Flux Balance Analysis (FBA) Simulation\n"
   ]
  },
  {
   "cell_type": "code",
   "execution_count": null,
   "metadata": {},
   "outputs": [],
   "source": [
    "g_exp_df = case8.getColumnWithoutNAs(exp_dataset, 0, 'X')\n",
    "g_fba_res, g_fba_exp_sim, g_fba_exp_sim_errors = case8.simulationPipeline(g_exp_df, cs = 'glucose', geneko = genes, type = 'fba', res_exists = True, fname = 'Results/Case 8/res_fba_glucose_case5.sav')\n",
    "pd.concat([reactions, g_fba_exp_sim_errors], axis = 1, join = 'inner')"
   ]
  },
  {
   "cell_type": "markdown",
   "metadata": {},
   "source": [
    "<p style=\"float: center; font-size: 9pt; text-align: center; width: 80%;\"><img src = \"Results/Case 8/g_fba_exp_sim_plot.png\", width = 100%></p>"
   ]
  },
  {
   "cell_type": "markdown",
   "metadata": {},
   "source": [
    "## Parsimonious Flux Balance Analysis (pFBA) Simulation\n"
   ]
  },
  {
   "cell_type": "code",
   "execution_count": null,
   "metadata": {},
   "outputs": [],
   "source": [
    "g_pfba_res, g_pfba_exp_sim, g_pfba_exp_sim_errors = case8.simulationPipeline(g_exp_df, cs = 'glucose', geneko = genes, type = 'pfba', res_exists = True, fname = 'Results/Case 8/res_pfba_glucose_case5.sav')\n",
    "pd.concat([reactions, g_pfba_exp_sim_errors], axis = 1, join = 'inner')"
   ]
  },
  {
   "cell_type": "markdown",
   "metadata": {},
   "source": [
    "<p style=\"float: center; font-size: 9pt; text-align: center; width: 80%;\"><img src = \"Results/Case 8/g_pfba_exp_sim_plot.png\", width = 100%></p>"
   ]
  },
  {
   "cell_type": "markdown",
   "metadata": {},
   "source": [
    "## Linear Minimization of Metabolic Adjustment (LMOMA) Simulation\n"
   ]
  },
  {
   "cell_type": "code",
   "execution_count": null,
   "metadata": {},
   "outputs": [],
   "source": [
    "g_lmoma_res, g_lmoma_exp_sim, g_lmoma_exp_sim_errors = case8.simulationPipeline(g_exp_df, cs = 'glucose', geneko = genes, type = 'lmoma', res_exists = True, fname = 'Results/Case 8/res_lmoma_glucose_case5.sav')\n",
    "pd.concat([reactions, g_lmoma_exp_sim_errors], axis = 1, join = 'inner')"
   ]
  },
  {
   "cell_type": "markdown",
   "metadata": {},
   "source": [
    "<p style=\"float: center; font-size: 9pt; text-align: center; width: 80%;\"><img src = \"Results/Case 8/g_lmoma_exp_sim_plot.png\", width = 100%></p>"
   ]
  },
  {
   "cell_type": "markdown",
   "metadata": {},
   "source": [
    "## Flux Variability Analysis (FVA) Simulation\n"
   ]
  },
  {
   "cell_type": "code",
   "execution_count": null,
   "metadata": {},
   "outputs": [],
   "source": [
    "g_fva_res, g_fva_exp_sim, _ = case8.simulationPipeline(g_exp_df, cs = 'glucose', geneko = genes, type = 'fva', res_exists = True, fname = 'Results/Case 8/res_fva_glucose_case5.sav')\n",
    "pd.concat([reactions, g_fva_exp_sim], axis = 1, join = 'inner')"
   ]
  },
  {
   "cell_type": "markdown",
   "metadata": {},
   "source": [
    "# Galactose carbon source\n"
   ]
  },
  {
   "cell_type": "markdown",
   "metadata": {},
   "source": [
    "## Flux Balance Analysis (FBA) Simulation\n"
   ]
  },
  {
   "cell_type": "code",
   "execution_count": null,
   "metadata": {},
   "outputs": [],
   "source": [
    "gal_exp_df = case8.getColumnWithoutNAs(exp_dataset, 1, 'X')\n",
    "gal_fba_res, gal_fba_exp_sim, gal_fba_exp_sim_errors = case8.simulationPipeline(gal_exp_df, cs = 'galactose', geneko = genes, type = 'fba', res_exists = True, fname = 'Results/Case 8/res_fba_galactose_case5.sav')\n",
    "pd.concat([reactions, gal_fba_exp_sim_errors], axis = 1, join = 'inner')"
   ]
  },
  {
   "cell_type": "markdown",
   "metadata": {},
   "source": [
    "<p style=\"float: center; font-size: 9pt; text-align: center; width: 80%;\"><img src = \"Results/Case 8/gal_fba_exp_sim_plot.png\", width = 100%></p>"
   ]
  },
  {
   "cell_type": "markdown",
   "metadata": {},
   "source": [
    "## Parsimonious Flux Balance Analysis (pFBA) Simulation\n"
   ]
  },
  {
   "cell_type": "code",
   "execution_count": null,
   "metadata": {},
   "outputs": [],
   "source": [
    "gal_pfba_res, gal_pfba_exp_sim, gal_pfba_exp_sim_errors = case8.simulationPipeline(gal_exp_df, cs = 'galactose', geneko = genes, type = 'pfba', res_exists = True, fname = 'Results/Case 8/res_pfba_galactose_case5.sav')\n",
    "pd.concat([reactions, gal_pfba_exp_sim_errors], axis = 1, join = 'inner')"
   ]
  },
  {
   "cell_type": "markdown",
   "metadata": {},
   "source": [
    "<p style=\"float: center; font-size: 9pt; text-align: center; width: 80%;\"><img src = \"Results/Case 8/gal_pfba_exp_sim_plot.png\", width = 100%></p>"
   ]
  },
  {
   "cell_type": "markdown",
   "metadata": {},
   "source": [
    "## Linear Minimization of Metabolic Adjustment (LMOMA) Simulation\n"
   ]
  },
  {
   "cell_type": "code",
   "execution_count": null,
   "metadata": {},
   "outputs": [],
   "source": [
    "gal_lmoma_res, gal_lmoma_exp_sim, gal_lmoma_exp_sim_errors = case8.simulationPipeline(gal_exp_df, cs = 'galactose', geneko = genes, type = 'lmoma', res_exists = True, fname = 'Results/Case 8/res_lmoma_galactose_case5.sav')\n",
    "pd.concat([reactions, gal_lmoma_exp_sim_errors], axis = 1, join = 'inner')"
   ]
  },
  {
   "cell_type": "markdown",
   "metadata": {},
   "source": [
    "<p style=\"float: center; font-size: 9pt; text-align: center; width: 80%;\"><img src = \"Results/Case 8/gal_lmoma_exp_sim_plot.png\", width = 100%></p>"
   ]
  },
  {
   "cell_type": "markdown",
   "metadata": {},
   "source": [
    "## Flux Variability Analysis (FVA) Simulation\n"
   ]
  },
  {
   "cell_type": "code",
   "execution_count": null,
   "metadata": {},
   "outputs": [],
   "source": [
    "gal_fva_res, gal_fva_exp_sim, _ = case8.simulationPipeline(gal_exp_df, cs = 'galactose', geneko = genes, type = 'fva', res_exists = True, fname = 'Results/Case 8/res_fva_galactose_case5.sav')\n",
    "pd.concat([reactions, gal_fva_exp_sim], axis = 1, join = 'inner')"
   ]
  },
  {
   "cell_type": "markdown",
   "metadata": {},
   "source": [
    "# Glycerol carbon source\n"
   ]
  },
  {
   "cell_type": "markdown",
   "metadata": {},
   "source": [
    "## Flux Balance Analysis (FBA) Simulation\n"
   ]
  },
  {
   "cell_type": "code",
   "execution_count": null,
   "metadata": {},
   "outputs": [],
   "source": [
    "gly_exp_df = case8.getColumnWithoutNAs(exp_dataset, 2, 'X')\n",
    "gly_fba_res, gly_fba_exp_sim, gly_fba_exp_sim_errors = case8.simulationPipeline(gly_exp_df, cs = 'glycerol', geneko = genes, type = 'fba', res_exists = True, fname = 'Results/Case 8/res_fba_glycerol_case5.sav')\n",
    "pd.DataFrame(reactions).join(gly_fba_exp_sim_errors, how = 'inner')"
   ]
  },
  {
   "cell_type": "markdown",
   "metadata": {},
   "source": [
    "<p style=\"float: center; font-size: 9pt; text-align: center; width: 80%;\"><img src = \"Results/Case 8/gly_fba_exp_sim_plot.png\", width = 100%></p>"
   ]
  },
  {
   "cell_type": "markdown",
   "metadata": {},
   "source": [
    "## Parsimonious Flux Balance Analysis (pFBA) Simulation\n"
   ]
  },
  {
   "cell_type": "code",
   "execution_count": null,
   "metadata": {},
   "outputs": [],
   "source": [
    "gly_pfba_res, gly_pfba_exp_sim, gly_pfba_exp_sim_errors = case8.simulationPipeline(gly_exp_df, cs = 'glycerol', geneko = genes, type = 'pfba', res_exists = True, fname = 'Results/Case 8/res_pfba_glycerol_case5.sav')\n",
    "pd.DataFrame(reactions).join(gly_pfba_exp_sim_errors, how = 'inner')"
   ]
  },
  {
   "cell_type": "markdown",
   "metadata": {},
   "source": [
    "<p style=\"float: center; font-size: 9pt; text-align: center; width: 80%;\"><img src = \"Results/Case 8/gly_pfba_exp_sim_plot.png\", width = 100%></p>"
   ]
  },
  {
   "cell_type": "markdown",
   "metadata": {},
   "source": [
    "## Linear Minimization of Metabolic Adjustment (LMOMA) Simulation\n"
   ]
  },
  {
   "cell_type": "code",
   "execution_count": null,
   "metadata": {},
   "outputs": [],
   "source": [
    "gly_lmoma_res, gly_lmoma_exp_sim, gly_lmoma_exp_sim_errors = case8.simulationPipeline(gly_exp_df, cs = 'glycerol', geneko = genes, type = 'lmoma', res_exists = True, fname = 'Results/Case 8/res_lmoma_glycerol_case5.sav')\n",
    "pd.DataFrame(reactions).join(gly_lmoma_exp_sim_errors, how = 'inner')"
   ]
  },
  {
   "cell_type": "markdown",
   "metadata": {},
   "source": [
    "<p style=\"float: center; font-size: 9pt; text-align: center; width: 80%;\"><img src = \"Results/Case 8/gly_lmoma_exp_sim_plot.png\", width = 100%></p>"
   ]
  },
  {
   "cell_type": "markdown",
   "metadata": {},
   "source": [
    "## Flux Variability Analysis (FVA) Simulation\n"
   ]
  },
  {
   "cell_type": "code",
   "execution_count": null,
   "metadata": {},
   "outputs": [],
   "source": [
    "gly_fva_res, gly_fva_exp_sim, _ = case8.simulationPipeline(gly_exp_df, cs = 'glycerol', geneko = genes, type = 'fva', res_exists = True, fname = 'Results/Case 8/res_fva_glycerol_case5.sav')\n",
    "pd.DataFrame(reactions).join(gly_fva_exp_sim, how = 'inner')"
   ]
  },
  {
   "cell_type": "markdown",
   "metadata": {},
   "source": [
    "# Ethanol carbon source\n"
   ]
  },
  {
   "cell_type": "markdown",
   "metadata": {},
   "source": [
    "## Flux Balance Analysis (FBA) Simulation\n"
   ]
  },
  {
   "cell_type": "code",
   "execution_count": null,
   "metadata": {},
   "outputs": [],
   "source": [
    "e_exp_df = case8.getColumnWithoutNAs(exp_dataset, 3, 'X')\n",
    "e_fba_res, e_fba_exp_sim, e_fba_exp_sim_errors = case8.simulationPipeline(e_exp_df, cs = 'ethanol', geneko = genes, type = 'fba', res_exists = True, fname = 'Results/Case 8/res_fba_ethanol_case5.sav')\n",
    "pd.DataFrame(reactions).join(e_fba_exp_sim_errors, how = 'inner')"
   ]
  },
  {
   "cell_type": "markdown",
   "metadata": {},
   "source": [
    "<p style=\"float: center; font-size: 9pt; text-align: center; width: 80%;\"><img src = \"Results/Case 8/e_fba_exp_sim_plot.png\", width = 100%></p>"
   ]
  },
  {
   "cell_type": "markdown",
   "metadata": {},
   "source": [
    "## Parsimonious Flux Balance Analysis (pFBA) Simulation\n"
   ]
  },
  {
   "cell_type": "code",
   "execution_count": null,
   "metadata": {},
   "outputs": [],
   "source": [
    "e_pfba_res, e_pfba_exp_sim, e_pfba_exp_sim_errors = case8.simulationPipeline(e_exp_df, cs = 'ethanol', geneko = genes, type = 'pfba', res_exists = True, fname = 'Results/Case 8/res_pfba_ethanol_case5.sav')\n",
    "pd.DataFrame(reactions).join(e_pfba_exp_sim_errors, how = 'inner')"
   ]
  },
  {
   "cell_type": "markdown",
   "metadata": {},
   "source": [
    "<p style=\"float: center; font-size: 9pt; text-align: center; width: 80%;\"><img src = \"Results/Case 8/e_pfba_exp_sim_plot.png\", width = 100%></p>"
   ]
  },
  {
   "cell_type": "markdown",
   "metadata": {},
   "source": [
    "## Linear Minimization of Metabolic Adjustment (LMOMA) Simulation\n"
   ]
  },
  {
   "cell_type": "code",
   "execution_count": null,
   "metadata": {},
   "outputs": [],
   "source": [
    "e_lmoma_res, e_lmoma_exp_sim, e_lmoma_exp_sim_errors = case8.simulationPipeline(e_exp_df, cs = 'ethanol', geneko = genes, type = 'lmoma', res_exists = True, fname = 'Results/Case 8/res_lmoma_ethanol_case5.sav')\n",
    "pd.DataFrame(reactions).join(e_lmoma_exp_sim_errors, how = 'inner')"
   ]
  },
  {
   "cell_type": "markdown",
   "metadata": {},
   "source": [
    "<p style=\"float: center; font-size: 9pt; text-align: center; width: 80%;\"><img src = \"Results/Case 8/e_lmoma_exp_sim_plot.png\", width = 100%></p>"
   ]
  },
  {
   "cell_type": "markdown",
   "metadata": {},
   "source": [
    "## Flux Variability Analysis (FVA) Simulation\n"
   ]
  },
  {
   "cell_type": "code",
   "execution_count": null,
   "metadata": {},
   "outputs": [],
   "source": [
    "e_fva_res, e_fva_exp_sim, _ = case8.simulationPipeline(e_exp_df, cs = 'ethanol', geneko = genes, type = 'fva', res_exists = True, fname = 'Results/Case 8/res_fva_ethanol_case5.sav')\n",
    "pd.DataFrame(reactions).join(e_fva_exp_sim, how = 'inner')"
   ]
  }
 ],
 "metadata": {},
 "nbformat": 4,
 "nbformat_minor": 0
}