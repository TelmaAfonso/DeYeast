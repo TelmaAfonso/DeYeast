{
 "cells": [
  {
   "cell_type": "markdown",
   "metadata": {},
   "source": [
    "# Case 8 Report\n",
    "This report contains the results with case 8 simulations.\n"
   ]
  },
  {
   "cell_type": "code",
   "execution_count": null,
   "metadata": {},
   "outputs": [],
   "source": [
    "import warnings\n",
    "from case_8 import *\n",
    "\n",
    "pd.set_option('display.max_colwidth', -1)\n",
    "warnings.filterwarnings('ignore')\n",
    "\n",
    "#Initialization\n",
    "case8 = Case8()\n",
    "case8.model = case8.loadObjectFromFile('model_yeast_76.sav')\n",
    "case8.model.solver = 'optlang-cplex'\n",
    "case8.setMedium('MINIMAL')\n",
    "case8.dictsForCase8()\n",
    "\n"
   ]
  },
  {
   "cell_type": "markdown",
   "metadata": {},
   "source": [
    "## General datasets\n"
   ]
  },
  {
   "cell_type": "code",
   "execution_count": null,
   "metadata": {},
   "outputs": [],
   "source": [
    "#S. Cerevisiae BY4741 deltas\n",
    "genes = ['HIS3', 'LEU2', 'MET17', 'URA3']\n",
    "genes = list(case8.convertStdToSyst(genes).values())\n",
    "\n",
    "exp_dataset, reactions = case8.loadExperimentalRes('Results/Case 8/case8_experimental_fluxes.csv')\n"
   ]
  },
  {
   "cell_type": "markdown",
   "metadata": {},
   "source": [
    "# Glucose carbon source\n"
   ]
  },
  {
   "cell_type": "markdown",
   "metadata": {},
   "source": [
    "## Flux Balance Analysis (FBA) Simulation\n"
   ]
  },
  {
   "cell_type": "code",
   "execution_count": null,
   "metadata": {},
   "outputs": [],
   "source": [
    "g_exp_df = case8.getColumnWithoutNAs(exp_dataset, 0, 'X')\n",
    "# O2 flux estimation not possible (ethanol flux of 0 independently of O2 flux)\n",
    "\n",
    "g_fba_res, g_fba_exp_sim, g_fba_exp_sim_errors = case8.simulationPipeline(g_exp_df, cs = 'glucose', geneko = genes, type = 'fba', res_exists = True, fname = 'Results/Case 8/res_fba_glucose_case5.sav')\n",
    "pd.concat([reactions, g_fba_exp_sim_errors], axis = 1, join = 'inner')\n"
   ]
  },
  {
   "cell_type": "markdown",
   "metadata": {},
   "source": [
    "<p style=\"float: center; font-size: 9pt; text-align: center; width: 80%;\"><img src = \"Results/Case 8/g_fba_exp_sim_plot.png\", width = 100%></p>"
   ]
  },
  {
   "cell_type": "markdown",
   "metadata": {},
   "source": [
    "## Parsimonious Flux Balance Analysis (pFBA) Simulation\n"
   ]
  },
  {
   "cell_type": "code",
   "execution_count": null,
   "metadata": {},
   "outputs": [],
   "source": [
    "g_pfba_res, g_pfba_exp_sim, g_pfba_exp_sim_errors = case8.simulationPipeline(g_exp_df, cs = 'glucose', geneko = genes, type = 'pfba', res_exists = True, fname = 'Results/Case 8/res_pfba_glucose_case5.sav')\n",
    "pd.concat([reactions, g_pfba_exp_sim_errors], axis = 1, join = 'inner')\n"
   ]
  },
  {
   "cell_type": "markdown",
   "metadata": {},
   "source": [
    "<p style=\"float: center; font-size: 9pt; text-align: center; width: 80%;\"><img src = \"Results/Case 8/g_pfba_exp_sim_plot.png\", width = 100%></p>"
   ]
  },
  {
   "cell_type": "markdown",
   "metadata": {},
   "source": [
    "## Linear Minimization of Metabolic Adjustment (LMOMA) Simulation\n"
   ]
  },
  {
   "cell_type": "code",
   "execution_count": null,
   "metadata": {},
   "outputs": [],
   "source": [
    "g_lmoma_res, g_lmoma_exp_sim, g_lmoma_exp_sim_errors = case8.simulationPipeline(g_exp_df, cs = 'glucose', geneko = genes, type = 'lmoma', res_exists = True, fname = 'Results/Case 8/res_lmoma_glucose_case5.sav')\n",
    "pd.concat([reactions, g_lmoma_exp_sim_errors], axis = 1, join = 'inner')\n"
   ]
  },
  {
   "cell_type": "markdown",
   "metadata": {},
   "source": [
    "<p style=\"float: center; font-size: 9pt; text-align: center; width: 80%;\"><img src = \"Results/Case 8/g_lmoma_exp_sim_plot.png\", width = 100%></p>"
   ]
  },
  {
   "cell_type": "markdown",
   "metadata": {},
   "source": [
    "## Flux Variability Analysis (FVA) Simulation\n"
   ]
  },
  {
   "cell_type": "code",
   "execution_count": null,
   "metadata": {},
   "outputs": [],
   "source": [
    "g_fva_res, g_fva_exp_sim, _ = case8.simulationPipeline(g_exp_df, cs = 'glucose', geneko = genes, type = 'fva', res_exists = True, fname = 'Results/Case 8/res_fva_glucose_case5.sav')\n",
    "pd.concat([reactions, g_fva_exp_sim], axis = 1, join = 'inner')\n"
   ]
  },
  {
   "cell_type": "markdown",
   "metadata": {},
   "source": [
    "# Galactose carbon source\n"
   ]
  },
  {
   "cell_type": "markdown",
   "metadata": {},
   "source": [
    "## Flux Balance Analysis (FBA) Simulation\n"
   ]
  },
  {
   "cell_type": "code",
   "execution_count": null,
   "metadata": {},
   "outputs": [],
   "source": [
    "gal_exp_df = case8.getColumnWithoutNAs(exp_dataset, 1, 'X')\n",
    "# O2 flux estimation not possible (ethanol flux of 0 independently of O2 flux)\n",
    "\n",
    "gal_fba_res, gal_fba_exp_sim, gal_fba_exp_sim_errors = case8.simulationPipeline(gal_exp_df, cs = 'galactose', geneko = genes, type = 'fba', res_exists = True, fname = 'Results/Case 8/res_fba_galactose_case5.sav')\n",
    "pd.concat([reactions, gal_fba_exp_sim_errors], axis = 1, join = 'inner')\n"
   ]
  },
  {
   "cell_type": "markdown",
   "metadata": {},
   "source": [
    "<p style=\"float: center; font-size: 9pt; text-align: center; width: 80%;\"><img src = \"Results/Case 8/gal_fba_exp_sim_plot.png\", width = 100%></p>"
   ]
  },
  {
   "cell_type": "markdown",
   "metadata": {},
   "source": [
    "## Parsimonious Flux Balance Analysis (pFBA) Simulation\n"
   ]
  },
  {
   "cell_type": "code",
   "execution_count": null,
   "metadata": {},
   "outputs": [],
   "source": [
    "gal_pfba_res, gal_pfba_exp_sim, gal_pfba_exp_sim_errors = case8.simulationPipeline(gal_exp_df, cs = 'galactose', geneko = genes, type = 'pfba', res_exists = True, fname = 'Results/Case 8/res_pfba_galactose_case5.sav')\n",
    "pd.concat([reactions, gal_pfba_exp_sim_errors], axis = 1, join = 'inner')\n"
   ]
  },
  {
   "cell_type": "markdown",
   "metadata": {},
   "source": [
    "<p style=\"float: center; font-size: 9pt; text-align: center; width: 80%;\"><img src = \"Results/Case 8/gal_pfba_exp_sim_plot.png\", width = 100%></p>"
   ]
  },
  {
   "cell_type": "markdown",
   "metadata": {},
   "source": [
    "## Linear Minimization of Metabolic Adjustment (LMOMA) Simulation\n"
   ]
  },
  {
   "cell_type": "code",
   "execution_count": null,
   "metadata": {},
   "outputs": [],
   "source": [
    "gal_lmoma_res, gal_lmoma_exp_sim, gal_lmoma_exp_sim_errors = case8.simulationPipeline(gal_exp_df, cs = 'galactose', geneko = genes, type = 'lmoma', res_exists = True, fname = 'Results/Case 8/res_lmoma_galactose_case5.sav')\n",
    "pd.concat([reactions, gal_lmoma_exp_sim_errors], axis = 1, join = 'inner')\n"
   ]
  },
  {
   "cell_type": "markdown",
   "metadata": {},
   "source": [
    "<p style=\"float: center; font-size: 9pt; text-align: center; width: 80%;\"><img src = \"Results/Case 8/gal_lmoma_exp_sim_plot.png\", width = 100%></p>"
   ]
  },
  {
   "cell_type": "markdown",
   "metadata": {},
   "source": [
    "## Flux Variability Analysis (FVA) Simulation\n"
   ]
  },
  {
   "cell_type": "code",
   "execution_count": null,
   "metadata": {},
   "outputs": [],
   "source": [
    "gal_fva_res, gal_fva_exp_sim, _ = case8.simulationPipeline(gal_exp_df, cs = 'galactose', geneko = genes, type = 'fva', res_exists = True, fname = 'Results/Case 8/res_fva_galactose_case5.sav')\n",
    "pd.concat([reactions, gal_fva_exp_sim], axis = 1, join = 'inner')\n"
   ]
  },
  {
   "cell_type": "markdown",
   "metadata": {},
   "source": [
    "# Glycerol carbon source\n"
   ]
  },
  {
   "cell_type": "markdown",
   "metadata": {},
   "source": [
    "## Flux Balance Analysis (FBA) Simulation\n"
   ]
  },
  {
   "cell_type": "code",
   "execution_count": null,
   "metadata": {},
   "outputs": [],
   "source": [
    "gly_exp_df = case8.getColumnWithoutNAs(exp_dataset, 2, 'X')\n",
    "# O2 flux estimation not possible (ethanol flux of 0 independently of O2 flux)\n",
    "\n",
    "gly_fba_res, gly_fba_exp_sim, gly_fba_exp_sim_errors = case8.simulationPipeline(gly_exp_df, cs = 'glycerol', geneko = genes, type = 'fba', res_exists = True, fname = 'Results/Case 8/res_fba_glycerol_case5.sav')\n",
    "pd.DataFrame(reactions).join(gly_fba_exp_sim_errors, how = 'inner')\n"
   ]
  },
  {
   "cell_type": "markdown",
   "metadata": {},
   "source": [
    "<p style=\"float: center; font-size: 9pt; text-align: center; width: 80%;\"><img src = \"Results/Case 8/gly_fba_exp_sim_plot.png\", width = 100%></p>"
   ]
  },
  {
   "cell_type": "markdown",
   "metadata": {},
   "source": [
    "## Parsimonious Flux Balance Analysis (pFBA) Simulation\n"
   ]
  },
  {
   "cell_type": "code",
   "execution_count": null,
   "metadata": {},
   "outputs": [],
   "source": [
    "gly_pfba_res, gly_pfba_exp_sim, gly_pfba_exp_sim_errors = case8.simulationPipeline(gly_exp_df, cs = 'glycerol', geneko = genes, type = 'pfba', res_exists = True, fname = 'Results/Case 8/res_pfba_glycerol_case5.sav')\n",
    "pd.DataFrame(reactions).join(gly_pfba_exp_sim_errors, how = 'inner')\n"
   ]
  },
  {
   "cell_type": "markdown",
   "metadata": {},
   "source": [
    "<p style=\"float: center; font-size: 9pt; text-align: center; width: 80%;\"><img src = \"Results/Case 8/gly_pfba_exp_sim_plot.png\", width = 100%></p>"
   ]
  },
  {
   "cell_type": "markdown",
   "metadata": {},
   "source": [
    "## Linear Minimization of Metabolic Adjustment (LMOMA) Simulation\n"
   ]
  },
  {
   "cell_type": "code",
   "execution_count": null,
   "metadata": {},
   "outputs": [],
   "source": [
    "gly_lmoma_res, gly_lmoma_exp_sim, gly_lmoma_exp_sim_errors = case8.simulationPipeline(gly_exp_df, cs = 'glycerol', geneko = genes, type = 'lmoma', res_exists = True, fname = 'Results/Case 8/res_lmoma_glycerol_case5.sav')\n",
    "pd.DataFrame(reactions).join(gly_lmoma_exp_sim_errors, how = 'inner')\n"
   ]
  },
  {
   "cell_type": "markdown",
   "metadata": {},
   "source": [
    "<p style=\"float: center; font-size: 9pt; text-align: center; width: 80%;\"><img src = \"Results/Case 8/gly_lmoma_exp_sim_plot.png\", width = 100%></p>"
   ]
  },
  {
   "cell_type": "markdown",
   "metadata": {},
   "source": [
    "## Flux Variability Analysis (FVA) Simulation\n"
   ]
  },
  {
   "cell_type": "code",
   "execution_count": null,
   "metadata": {},
   "outputs": [],
   "source": [
    "gly_fva_res, gly_fva_exp_sim, _ = case8.simulationPipeline(gly_exp_df, cs = 'glycerol', geneko = genes, type = 'fva', res_exists = True, fname = 'Results/Case 8/res_fva_glycerol_case5.sav')\n",
    "pd.DataFrame(reactions).join(gly_fva_exp_sim, how = 'inner')\n"
   ]
  },
  {
   "cell_type": "markdown",
   "metadata": {},
   "source": [
    "# Ethanol carbon source\n"
   ]
  },
  {
   "cell_type": "markdown",
   "metadata": {},
   "source": [
    "## Flux Balance Analysis (FBA) Simulation\n"
   ]
  },
  {
   "cell_type": "code",
   "execution_count": null,
   "metadata": {},
   "outputs": [],
   "source": [
    "e_exp_df = case8.getColumnWithoutNAs(exp_dataset, 3, 'X')\n",
    "\n",
    "e_fba_res, e_fba_exp_sim, e_fba_exp_sim_errors = case8.simulationPipeline(e_exp_df, cs = 'ethanol', geneko = genes, type = 'fba', res_exists = True, fname = 'Results/Case 8/res_fba_ethanol_case5.sav')\n",
    "pd.DataFrame(reactions).join(e_fba_exp_sim_errors, how = 'inner')\n"
   ]
  },
  {
   "cell_type": "markdown",
   "metadata": {},
   "source": [
    "<p style=\"float: center; font-size: 9pt; text-align: center; width: 80%;\"><img src = \"Results/Case 8/e_fba_exp_sim_plot.png\", width = 100%></p>"
   ]
  },
  {
   "cell_type": "markdown",
   "metadata": {},
   "source": [
    "## Parsimonious Flux Balance Analysis (pFBA) Simulation\n"
   ]
  },
  {
   "cell_type": "code",
   "execution_count": null,
   "metadata": {},
   "outputs": [],
   "source": [
    "e_pfba_res, e_pfba_exp_sim, e_pfba_exp_sim_errors = case8.simulationPipeline(e_exp_df, cs = 'ethanol', geneko = genes, type = 'pfba', res_exists = True, fname = 'Results/Case 8/res_pfba_ethanol_case5.sav')\n",
    "pd.DataFrame(reactions).join(e_pfba_exp_sim_errors, how = 'inner')\n"
   ]
  },
  {
   "cell_type": "markdown",
   "metadata": {},
   "source": [
    "<p style=\"float: center; font-size: 9pt; text-align: center; width: 80%;\"><img src = \"Results/Case 8/e_pfba_exp_sim_plot.png\", width = 100%></p>"
   ]
  },
  {
   "cell_type": "markdown",
   "metadata": {},
   "source": [
    "## Linear Minimization of Metabolic Adjustment (LMOMA) Simulation\n"
   ]
  },
  {
   "cell_type": "code",
   "execution_count": null,
   "metadata": {},
   "outputs": [],
   "source": [
    "e_lmoma_res, e_lmoma_exp_sim, e_lmoma_exp_sim_errors = case8.simulationPipeline(e_exp_df, cs = 'ethanol', geneko = genes, type = 'lmoma', res_exists = True, fname = 'Results/Case 8/res_lmoma_ethanol_case5.sav')\n",
    "pd.DataFrame(reactions).join(e_lmoma_exp_sim_errors, how = 'inner')\n"
   ]
  },
  {
   "cell_type": "markdown",
   "metadata": {},
   "source": [
    "<p style=\"float: center; font-size: 9pt; text-align: center; width: 80%;\"><img src = \"Results/Case 8/e_lmoma_exp_sim_plot.png\", width = 100%></p>"
   ]
  },
  {
   "cell_type": "markdown",
   "metadata": {},
   "source": [
    "## Flux Variability Analysis (FVA) Simulation\n"
   ]
  },
  {
   "cell_type": "code",
   "execution_count": null,
   "metadata": {},
   "outputs": [],
   "source": [
    "e_fva_res, e_fva_exp_sim, _ = case8.simulationPipeline(e_exp_df, cs = 'ethanol', geneko = genes, type = 'fva', res_exists = True, fname = 'Results/Case 8/res_fva_ethanol_case5.sav')\n",
    "pd.DataFrame(reactions).join(e_fva_exp_sim, how = 'inner')\n"
   ]
  }
 ],
 "metadata": {},
 "nbformat": 4,
 "nbformat_minor": 2
}
